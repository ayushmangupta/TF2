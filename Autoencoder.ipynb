{
  "nbformat": 4,
  "nbformat_minor": 0,
  "metadata": {
    "colab": {
      "name": "Autoencoder.ipynb",
      "version": "0.3.2",
      "provenance": [],
      "collapsed_sections": [],
      "include_colab_link": true
    },
    "kernelspec": {
      "name": "python3",
      "display_name": "Python 3"
    }
  },
  "cells": [
    {
      "cell_type": "markdown",
      "metadata": {
        "id": "view-in-github",
        "colab_type": "text"
      },
      "source": [
        "<a href=\"https://colab.research.google.com/github/ayushmangupta/TF2/blob/master/Autoencoder.ipynb\" target=\"_parent\"><img src=\"https://colab.research.google.com/assets/colab-badge.svg\" alt=\"Open In Colab\"/></a>"
      ]
    },
    {
      "cell_type": "code",
      "metadata": {
        "id": "dSehXaa3Itdz",
        "colab_type": "code",
        "colab": {}
      },
      "source": [
        "import tensorflow as tf\n",
        "tf.enable_eager_execution()\n",
        "import tensorflow.keras as tfk\n",
        "import tensorflow.keras.layers as tfkl\n",
        "import matplotlib.pyplot as plt\n",
        "%matplotlib inline "
      ],
      "execution_count": 0,
      "outputs": []
    },
    {
      "cell_type": "code",
      "metadata": {
        "id": "MLrGeVpCJG1-",
        "colab_type": "code",
        "colab": {}
      },
      "source": [
        "class Encoder(tfk.Model):\n",
        "  def __init__(self,intermidiate_dim):\n",
        "    super(Encoder,self).__init__()\n",
        "    self.common_layer = []\n",
        "    self.common_layer.append(tfkl.InputLayer(input_shape=784))\n",
        "    self.common_layer.append(tfkl.Dense(units=intermidiate_dim,activation='relu'))\n",
        "    self.common_layer.append(tfkl.Dense(units=intermidiate_dim,activation='relu'))\n",
        " \n",
        "  \n",
        "  def call(self,x):\n",
        "    x = tf.reshape(x,[-1,784])\n",
        "    for layer in self.common_layer:\n",
        "      x = layer(x)\n",
        "    return x\n",
        "      "
      ],
      "execution_count": 0,
      "outputs": []
    },
    {
      "cell_type": "code",
      "metadata": {
        "id": "CGyYj-47U2vF",
        "colab_type": "code",
        "colab": {}
      },
      "source": [
        "class Decoder(tfk.Model):\n",
        "  def __init__(self,intermidiate_dim,orignal_dim):\n",
        "    \n",
        "    super(Decoder,self).__init__()\n",
        "    self.intermidiate_dim = intermidiate_dim\n",
        "    self.common_layer = []\n",
        "    self.common_layer.append(tfkl.InputLayer(input_shape=self.intermidiate_dim))\n",
        "    self.common_layer.append(tfkl.Dense(units=self.intermidiate_dim,activation='relu'))\n",
        "    self.common_layer.append(tfkl.Dense(units=orignal_dim,activation='relu'))\n",
        " \n",
        "  \n",
        "  def call(self,x):\n",
        "    x = tf.reshape(x,[-1,self.intermidiate_dim])\n",
        "    for layer in self.common_layer:\n",
        "      x = layer(x)\n",
        "      \n",
        "    return x\n",
        "      "
      ],
      "execution_count": 0,
      "outputs": []
    },
    {
      "cell_type": "code",
      "metadata": {
        "id": "hnREU58yTSZJ",
        "colab_type": "code",
        "colab": {}
      },
      "source": [
        "data = tf.random.normal([32,784])"
      ],
      "execution_count": 0,
      "outputs": []
    },
    {
      "cell_type": "code",
      "metadata": {
        "id": "vio2V-4bUEY3",
        "colab_type": "code",
        "colab": {}
      },
      "source": [
        "class AE(tfk.Model):\n",
        "  def __init__(self,intermidiate_dim, orignal_dim):\n",
        "    super(AE,self).__init__()\n",
        "    \n",
        "    self.encoder = Encoder(intermidiate_dim)\n",
        "    self.decoder = Decoder(intermidiate_dim, orignal_dim)\n",
        "    \n",
        "    \n",
        "  def call(self,x):\n",
        "    x = self.encoder(x)\n",
        "    x = self.decoder(x)\n",
        "    \n",
        "    return x"
      ],
      "execution_count": 0,
      "outputs": []
    },
    {
      "cell_type": "code",
      "metadata": {
        "id": "g2KlEu1MUGTK",
        "colab_type": "code",
        "colab": {}
      },
      "source": [
        "model = AE(64,784)"
      ],
      "execution_count": 0,
      "outputs": []
    },
    {
      "cell_type": "code",
      "metadata": {
        "id": "GKTHcXUhc40W",
        "colab_type": "code",
        "colab": {}
      },
      "source": [
        ""
      ],
      "execution_count": 0,
      "outputs": []
    },
    {
      "cell_type": "code",
      "metadata": {
        "id": "uVcVwLgCjRST",
        "colab_type": "code",
        "colab": {}
      },
      "source": [
        "mnist = tf.keras.datasets.mnist\n",
        "\n",
        "(x_train, y_train), (x_test, y_test) = mnist.load_data()\n",
        "x_train, x_test = x_train / 255.0, x_test / 255.0\n",
        "\n",
        "x_train = tf.cast(x_train,tf.float32)\n",
        "x_test = tf.cast(x_test,tf.float32)\n",
        "\n",
        "x_train = tf.reshape(x_train,shape=[60000,784])\n",
        "x_test = tf.reshape(x_test,shape=[10000,784])\n",
        "# Add a channels dimension\n",
        "#x_train = x_train[..., tf.newaxis]\n",
        "#x_test = x_test[..., tf.newaxis]\n",
        "#print(x_train.shape)\n",
        "#Use tf.data to batch and shuffle the dataset:\n",
        "\n",
        "train_ds = tf.data.Dataset.from_tensor_slices(\n",
        "     (x_train)).shuffle(10000).batch(32)\n",
        "test_ds = tf.data.Dataset.from_tensor_slices(\n",
        "     (x_test)).shuffle(10000).batch(32)\n",
        "# test_ds = tf.data.Dataset.from_tensor_slices((x_test, y_test)).batch(32)"
      ],
      "execution_count": 0,
      "outputs": []
    },
    {
      "cell_type": "code",
      "metadata": {
        "id": "9KPE4rnUnMOW",
        "colab_type": "code",
        "colab": {}
      },
      "source": [
        "def loss_function(x,x_hat):\n",
        "  #print(x.dtype,x_hat.dtype)\n",
        "  reconstruction_error = tf.reduce_mean(tf.square(tf.subtract(x,x_hat)))\n",
        "  return reconstruction_error\n",
        "\n",
        "optimizer = tf.keras.optimizers.SGD(0.001,.9)\n",
        "\n",
        "train_loss = tf.keras.metrics.Mean(name='train_loss')\n",
        "train_accuracy = tf.keras.metrics.SparseCategoricalAccuracy(name='train_accuracy')\n",
        "\n",
        "test_loss = tf.keras.metrics.Mean(name='test_loss')\n",
        "test_accuracy = tf.keras.metrics.SparseCategoricalAccuracy(name='test_accuracy')"
      ],
      "execution_count": 0,
      "outputs": []
    },
    {
      "cell_type": "code",
      "metadata": {
        "id": "xBJw9R5Tph74",
        "colab_type": "code",
        "colab": {}
      },
      "source": [
        "@tf.function\n",
        "def train_step(x):\n",
        "  with tf.GradientTape() as tape:\n",
        "    x_hat = model(x)\n",
        "    print(\"model_out\")\n",
        "    loss = loss_function(x,x_hat)\n",
        "    \n",
        "    print(\"loss out\",loss)\n",
        "  gradients = tape.gradient(loss, model.trainable_variables)\n",
        "  optimizer.apply_gradients(zip(gradients, model.trainable_variables))\n",
        "\n",
        "  train_loss(loss)\n",
        "  #train_accuracy(labels, predictions)\n",
        "\n",
        "@tf.function\n",
        "def test_step(images):\n",
        "  predictions = model(images)\n",
        "  t_loss = loss_function(images,predictions)\n",
        "\n",
        "  test_loss(t_loss)\n",
        "  #test_accuracy(labels, predictions)"
      ],
      "execution_count": 0,
      "outputs": []
    },
    {
      "cell_type": "code",
      "metadata": {
        "id": "WuVaqdxFpi4L",
        "colab_type": "code",
        "colab": {
          "base_uri": "https://localhost:8080/",
          "height": 407
        },
        "outputId": "4d8cd053-8c1a-473c-8d61-bd7129eabd25"
      },
      "source": [
        "EPOCHS = 20\n",
        "\n",
        "for epoch in range(EPOCHS):\n",
        "  for images in train_ds:\n",
        "    train_step(images)\n",
        "\n",
        "  for test_images in test_ds:\n",
        "    test_step(test_images)\n",
        "\n",
        "  template = 'Epoch {}, Loss: {},Test Loss: {}'\n",
        "  #template = \"EPOCH {} Loss {} \"\n",
        "  print (template.format(epoch+1,\n",
        "                         train_loss.result(),\n",
        "                         \n",
        "                         test_loss.result()))  "
      ],
      "execution_count": 10,
      "outputs": [
        {
          "output_type": "stream",
          "text": [
            "model_out\n",
            "loss out Tensor(\"Mean:0\", shape=(), dtype=float32)\n",
            "model_out\n",
            "loss out Tensor(\"Mean:0\", shape=(), dtype=float32)\n",
            "Epoch 1, Loss: 0.10225137323141098,Test Loss: 0.09716111421585083\n",
            "Epoch 2, Loss: 0.09564253687858582,Test Loss: 0.0907098799943924\n",
            "Epoch 3, Loss: 0.09068190306425095,Test Loss: 0.08700576424598694\n",
            "Epoch 4, Loss: 0.08760087192058563,Test Loss: 0.08485639840364456\n",
            "Epoch 5, Loss: 0.08559118956327438,Test Loss: 0.0834413692355156\n",
            "Epoch 6, Loss: 0.08415625244379044,Test Loss: 0.08241155743598938\n",
            "Epoch 7, Loss: 0.08308500051498413,Test Loss: 0.08164238184690475\n",
            "Epoch 8, Loss: 0.08224805444478989,Test Loss: 0.0810152217745781\n",
            "Epoch 9, Loss: 0.08155433088541031,Test Loss: 0.08049456775188446\n",
            "Epoch 10, Loss: 0.08097031712532043,Test Loss: 0.08004122972488403\n",
            "Epoch 11, Loss: 0.08046003431081772,Test Loss: 0.07964334636926651\n",
            "Epoch 12, Loss: 0.08001147955656052,Test Loss: 0.07928768545389175\n",
            "Epoch 13, Loss: 0.0796007588505745,Test Loss: 0.07894419133663177\n",
            "Epoch 14, Loss: 0.07921315729618073,Test Loss: 0.0786203071475029\n",
            "Epoch 15, Loss: 0.07885117083787918,Test Loss: 0.07831252366304398\n",
            "Epoch 16, Loss: 0.07850776612758636,Test Loss: 0.07801329344511032\n",
            "Epoch 17, Loss: 0.07817451655864716,Test Loss: 0.07771605998277664\n",
            "Epoch 18, Loss: 0.0778394415974617,Test Loss: 0.07739746570587158\n",
            "Epoch 19, Loss: 0.07748647779226303,Test Loss: 0.07706215977668762\n",
            "Epoch 20, Loss: 0.07712401449680328,Test Loss: 0.076714888215065\n"
          ],
          "name": "stdout"
        }
      ]
    },
    {
      "cell_type": "code",
      "metadata": {
        "id": "ZNA693D2XRk9",
        "colab_type": "code",
        "colab": {}
      },
      "source": [
        "for images in test_ds:\n",
        "  dd = model(images)\n",
        "  break"
      ],
      "execution_count": 0,
      "outputs": []
    },
    {
      "cell_type": "code",
      "metadata": {
        "id": "NtWrCk4bc50m",
        "colab_type": "code",
        "colab": {}
      },
      "source": [
        ""
      ],
      "execution_count": 0,
      "outputs": []
    },
    {
      "cell_type": "code",
      "metadata": {
        "id": "Si9pWAm8Y_Ek",
        "colab_type": "code",
        "colab": {
          "base_uri": "https://localhost:8080/",
          "height": 270
        },
        "outputId": "2e1202d8-8380-4e14-a4aa-82f360975b49"
      },
      "source": [
        "for i in range(9):\n",
        "  plt.subplot(3,3,i+1)\n",
        "  plt.imshow(tf.reshape(dd[i],[28,28]),cmap=\"binary\")\n",
        "plt.show()"
      ],
      "execution_count": 12,
      "outputs": [
        {
          "output_type": "display_data",
          "data": {
            "image/png": "[encoded data removed]",
            "text/plain": [
              "<Figure size 432x288 with 9 Axes>"
            ]
          },
          "metadata": {
            "tags": []
          }
        }
      ]
    },
    {
      "cell_type": "code",
      "metadata": {
        "id": "Uk43Mtz0gUVy",
        "colab_type": "code",
        "colab": {}
      },
      "source": [
        ""
      ],
      "execution_count": 0,
      "outputs": []
    }
  ]
}