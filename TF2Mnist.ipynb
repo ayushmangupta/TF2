{
 "cells": [
  {
   "cell_type": "code",
   "execution_count": 1,
   "metadata": {
    "colab": {
     "base_uri": "https://localhost:8080/",
     "height": 34
    },
    "colab_type": "code",
    "id": "o5k1psDSrYv3",
    "outputId": "4a4b68bc-164e-47a2-9a69-72556e1b177b"
   },
   "outputs": [
    {
     "name": "stdout",
     "output_type": "stream",
     "text": [
      "2.0.0-beta1\n"
     ]
    }
   ],
   "source": [
    "\n",
    "#!pip3 install tensorflow==2.0.0-beta1\n",
    "#!pip3 install tensorflow_datasets\n",
    "%matplotlib inline\n",
    "%load_ext tensorboard\n",
    "import os\n",
    "import datetime\n",
    "import tensorflow as tf\n",
    "import matplotlib.pyplot as plt\n",
    "import tensorflow.keras as tfk\n",
    "import numpy as np\n",
    "import tensorflow.keras.layers as tfkl\n",
    "import tensorflow_datasets as tfds\n",
    "\n",
    "tfds.disable_progress_bar()\n",
    "print(tf.__version__)\n",
    "log_dir = \"logd\"\n",
    "!rm -rf logd/"
   ]
  },
  {
   "cell_type": "code",
   "execution_count": 2,
   "metadata": {},
   "outputs": [],
   "source": [
    "def plot_filters(model,ii):\n",
    "    d = model.layers[0]\n",
    "    o = d(ii)\n",
    "    mainImg=[]\n",
    "    for i in range(8): \n",
    "        a = []\n",
    "        for j in range(8):\n",
    "            a.append(o[i,:,:,j])\n",
    "        imgg = np.hstack(a)\n",
    "        mainImg.append(imgg)\n",
    "    return np.vstack(mainImg)"
   ]
  },
  {
   "cell_type": "code",
   "execution_count": 3,
   "metadata": {
    "colab": {},
    "colab_type": "code",
    "id": "skGaSgN7rj6O"
   },
   "outputs": [],
   "source": [
    "class Model(tfk.Model):\n",
    "  def __init__(self):\n",
    "    super(Model,self).__init__()\n",
    "    self.common_layers=[]\n",
    "    self.common_layers.append(tfkl.Conv2D(16,3,strides=(1,1),padding='same',activation=\"relu\",input_shape=(28,28,1)))\n",
    "    #self.common_layers.append(tfkl.Conv2D(64,3,strides=(1,1),padding='same',activation=\"relu\"))\n",
    "    #self.common_layers.append(tfkl.MaxPool2D((2,2),(2,2)))\n",
    "    self.common_layers.append(tfkl.Flatten())\n",
    "    #self.common_layers.append(tfkl.Dense(128,activation=\"relu\"))\n",
    "    self.common_layers.append(tfkl.Dense(32,activation=\"relu\"))\n",
    "    self.common_layers.append(tfkl.Dense(10,activation=\"softmax\"))\n",
    "                              \n",
    "  def call(self,x):\n",
    "    #x= tf.convert_to_tensor(x,dtype=tf.float32)\n",
    "    for layer in self.common_layers:\n",
    "      x = layer(x)\n",
    "    return x\n"
   ]
  },
  {
   "cell_type": "code",
   "execution_count": 4,
   "metadata": {
    "colab": {},
    "colab_type": "code",
    "id": "4G846GzitTst"
   },
   "outputs": [],
   "source": [
    "model = Model()\n",
    "tensorboard_callback = tf.keras.callbacks.TensorBoard(log_dir=log_dir, histogram_freq=1)\n",
    "current_time = datetime.datetime.now().strftime(\"%Y%m%d-%H%M%S\")\n",
    "train_log_dir = 'logd/gradient_tape/' + current_time + '/train'"
   ]
  },
  {
   "cell_type": "code",
   "execution_count": 5,
   "metadata": {
    "colab": {},
    "colab_type": "code",
    "id": "PDyEiN7oxjW9"
   },
   "outputs": [],
   "source": [
    "mnist = tf.keras.datasets.mnist\n",
    "\n",
    "(x_train, y_train), (x_test, y_test) = mnist.load_data()\n",
    "x_train, x_test = x_train / 255.0, x_test / 255.0\n",
    "\n",
    "# Add a channels dimension\n",
    "x_train = x_train[..., tf.newaxis]\n",
    "x_test = x_test[..., tf.newaxis]\n",
    "train_ds = tf.data.Dataset.from_tensor_slices(\n",
    "    (x_train, y_train)).shuffle(10000).batch(32)\n",
    "test_ds = tf.data.Dataset.from_tensor_slices((x_test, y_test)).batch(32)"
   ]
  },
  {
   "cell_type": "code",
   "execution_count": 6,
   "metadata": {
    "colab": {
     "base_uri": "https://localhost:8080/",
     "height": 286
    },
    "colab_type": "code",
    "id": "rquJ8lEJtXEd",
    "outputId": "a766893e-f820-43ae-e6ef-a87e40791a7a"
   },
   "outputs": [],
   "source": [
    "ii = x_train[:10,:,:,:]"
   ]
  },
  {
   "cell_type": "code",
   "execution_count": 7,
   "metadata": {
    "colab": {},
    "colab_type": "code",
    "id": "gpe00n0PteBg"
   },
   "outputs": [],
   "source": [
    "loss_object = tf.keras.losses.SparseCategoricalCrossentropy()\n",
    "\n",
    "optimizer = tf.keras.optimizers.Adam(0.001)\n",
    "train_loss = tf.keras.metrics.Mean(name='train_loss')\n",
    "train_accuracy = tf.keras.metrics.SparseCategoricalAccuracy(name='train_accuracy')\n",
    "\n",
    "test_loss = tf.keras.metrics.Mean(name='test_loss')\n",
    "test_accuracy = tf.keras.metrics.SparseCategoricalAccuracy(name='test_accuracy')\n"
   ]
  },
  {
   "cell_type": "code",
   "execution_count": 8,
   "metadata": {
    "colab": {},
    "colab_type": "code",
    "id": "eJdYKLlC2r74"
   },
   "outputs": [],
   "source": [
    "@tf.function\n",
    "def train_step(images, labels):\n",
    "  with tf.GradientTape() as tape:\n",
    "    predictions = model(images)\n",
    "    loss = loss_object(labels, predictions)\n",
    "  gradients = tape.gradient(loss, model.trainable_variables)\n",
    "  optimizer.apply_gradients(zip(gradients, model.trainable_variables))\n",
    "\n",
    "  train_loss(loss)\n",
    "  train_accuracy(labels, predictions)\n",
    "\n",
    "@tf.function\n",
    "def test_step(images, labels):\n",
    "  predictions = model(images)\n",
    "  t_loss = loss_object(labels, predictions)\n",
    "\n",
    "  test_loss(t_loss)\n",
    "  test_accuracy(labels, predictions)\n"
   ]
  },
  {
   "cell_type": "code",
   "execution_count": 9,
   "metadata": {
    "colab": {},
    "colab_type": "code",
    "id": "Bq8vh4qz70e3"
   },
   "outputs": [],
   "source": [
    "train_summary_writer = tf.summary.create_file_writer(train_log_dir)\n"
   ]
  },
  {
   "cell_type": "code",
   "execution_count": 10,
   "metadata": {
    "colab": {
     "base_uri": "https://localhost:8080/",
     "height": 52
    },
    "colab_type": "code",
    "id": "odZJ6Rygu7ch",
    "outputId": "c28c858d-6771-479e-a272-067a1e8fc769"
   },
   "outputs": [
    {
     "name": "stdout",
     "output_type": "stream",
     "text": [
      "Epoch 1, Loss: 0.18967749178409576, Accuracy: 94.37833404541016, Test Loss: 0.09249943494796753, Test Accuracy: 97.11000061035156\n",
      "Epoch 2, Loss: 0.06901370733976364, Accuracy: 97.94833374023438, Test Loss: 0.08133405447006226, Test Accuracy: 97.44499969482422\n",
      "Epoch 3, Loss: 0.04256151616573334, Accuracy: 98.76333618164062, Test Loss: 0.07690677046775818, Test Accuracy: 97.59333038330078\n"
     ]
    }
   ],
   "source": [
    "EPOCHS = 8\n",
    "#tf.summary.trace_on(graph=True, profiler=True)\n",
    "for epoch in range(EPOCHS):\n",
    "    for images, labels in train_ds:\n",
    "        train_step(images, labels)\n",
    "    with train_summary_writer.as_default():\n",
    "        tf.summary.scalar('loss', train_loss.result(), step=epoch)\n",
    "        tf.summary.scalar('accuracy', train_accuracy.result(), step=epoch)\n",
    "        filter_img = plot_filters(model,ii)\n",
    "        filter_img = tf.summary.image('image',filter_img[np.newaxis,:,:,np.newaxis],step=epoch)\n",
    "        #tf.summary.trace_export(name=\"my_func_trace\", step=0, profiler_outdir=train_log_dir)\n",
    "\n",
    "    for test_images, test_labels in test_ds:\n",
    "      test_step(test_images, test_labels)\n",
    "\n",
    "    template = 'Epoch {}, Loss: {}, Accuracy: {}, Test Loss: {}, Test Accuracy: {}'\n",
    "    print (template.format(epoch+1,\n",
    "                           train_loss.result(),\n",
    "                           train_accuracy.result()*100,\n",
    "                           test_loss.result(),\n",
    "                           test_accuracy.result()*100))\n",
    "    train_loss.reset_states()\n",
    "    train_accuracy.reset_states()"
   ]
  },
  {
   "cell_type": "code",
   "execution_count": null,
   "metadata": {
    "colab": {
     "base_uri": "https://localhost:8080/",
     "height": 167
    },
    "colab_type": "code",
    "id": "hoOyJonsvAyM",
    "outputId": "21b49e83-74fa-4242-cd53-a8adff62a53c"
   },
   "outputs": [],
   "source": []
  },
  {
   "cell_type": "code",
   "execution_count": null,
   "metadata": {
    "colab": {},
    "colab_type": "code",
    "id": "-_oJjT1IwoWp"
   },
   "outputs": [],
   "source": []
  },
  {
   "cell_type": "code",
   "execution_count": null,
   "metadata": {
    "colab": {
     "base_uri": "https://localhost:8080/",
     "height": 69
    },
    "colab_type": "code",
    "id": "d8TQd7rF_UOq",
    "outputId": "0c612459-36fd-4742-ce0b-86e86ea04e4f"
   },
   "outputs": [],
   "source": []
  },
  {
   "cell_type": "code",
   "execution_count": null,
   "metadata": {
    "colab": {},
    "colab_type": "code",
    "id": "VTEnsSIW_nRP"
   },
   "outputs": [],
   "source": []
  },
  {
   "cell_type": "code",
   "execution_count": null,
   "metadata": {},
   "outputs": [],
   "source": []
  },
  {
   "cell_type": "code",
   "execution_count": null,
   "metadata": {},
   "outputs": [],
   "source": []
  },
  {
   "cell_type": "code",
   "execution_count": null,
   "metadata": {},
   "outputs": [],
   "source": []
  }
 ],
 "metadata": {
  "accelerator": "GPU",
  "colab": {
   "collapsed_sections": [],
   "name": "TF2Mnist.ipynb",
   "provenance": [],
   "version": "0.3.2"
  },
  "kernelspec": {
   "display_name": "Python 3",
   "language": "python",
   "name": "python3"
  },
  "language_info": {
   "codemirror_mode": {
    "name": "ipython",
    "version": 3
   },
   "file_extension": ".py",
   "mimetype": "text/x-python",
   "name": "python",
   "nbconvert_exporter": "python",
   "pygments_lexer": "ipython3",
   "version": "3.6.7"
  }
 },
 "nbformat": 4,
 "nbformat_minor": 2
}
