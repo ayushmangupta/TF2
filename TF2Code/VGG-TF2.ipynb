{
  "nbformat": 4,
  "nbformat_minor": 0,
  "metadata": {
    "colab": {
      "name": "VGG.ipynb",
      "version": "0.3.2",
      "provenance": [],
      "include_colab_link": true
    },
    "kernelspec": {
      "name": "python3",
      "display_name": "Python 3"
    },
    "accelerator": "GPU"
  },
  "cells": [
    {
      "cell_type": "markdown",
      "metadata": {
        "id": "view-in-github",
        "colab_type": "text"
      },
      "source": [
        "<a href=\"https://colab.research.google.com/github/ayushmangupta/TF2/blob/master/VGG-TF2.ipynb\" target=\"_parent\"><img src=\"https://colab.research.google.com/assets/colab-badge.svg\" alt=\"Open In Colab\"/></a>"
      ]
    },
    {
      "cell_type": "code",
      "metadata": {
        "id": "inOBfvMRRact",
        "colab_type": "code",
        "colab": {}
      },
      "source": [
        ""
      ],
      "execution_count": 0,
      "outputs": []
    },
    {
      "cell_type": "code",
      "metadata": {
        "id": "oXEzl4dusL4A",
        "colab_type": "code",
        "colab": {
          "base_uri": "https://localhost:8080/",
          "height": 34
        },
        "outputId": "5d996418-1b70-4703-fe4b-22fd94c31847"
      },
      "source": [
        "#!pip install tensorflow==2.0.0-beta1\n",
        "import tensorflow as tf\n",
        "import tensorflow.keras as tfk\n",
        "import tensorflow.keras.layers as tfkl\n",
        "import tensorflow_datasets as tfds\n",
        "tfds.disable_progress_bar()\n",
        "print(tf.__version__)"
      ],
      "execution_count": 21,
      "outputs": [
        {
          "output_type": "stream",
          "text": [
            "2.0.0-beta1\n"
          ],
          "name": "stdout"
        }
      ]
    },
    {
      "cell_type": "code",
      "metadata": {
        "id": "JN0pmRkTskdT",
        "colab_type": "code",
        "colab": {}
      },
      "source": [
        "class VGG(tfk.Model):\n",
        "  def __init__(self):\n",
        "    super(VGG,self).__init__()\n",
        "    \n",
        "    self.common_layer = []\n",
        "    self.common_layer.append(tfkl.InputLayer(input_shape=(224,224,3)))\n",
        "    self.common_layer.append(tfkl.Conv2D(64,3,(1,1),padding=\"same\",activation='relu'))\n",
        "    self.common_layer.append(tfkl.Conv2D(64,3,(1,1),padding=\"same\",activation='relu'))\n",
        "    self.common_layer.append(tfkl.MaxPool2D(pool_size=(2,2),strides=(2,2)))\n",
        "    self.common_layer.append(tfkl.Conv2D(128,3,(1,1),padding=\"same\",activation='relu'))\n",
        "    self.common_layer.append(tfkl.Conv2D(128,3,(1,1),padding=\"same\",activation='relu'))\n",
        "    self.common_layer.append(tfkl.MaxPool2D(pool_size=(2,2),strides=(2,2)))\n",
        "    self.common_layer.append(tfkl.Conv2D(256,3,(1,1),padding=\"same\",activation='relu'))\n",
        "    self.common_layer.append(tfkl.Conv2D(256,3,(1,1),padding=\"same\",activation='relu'))\n",
        "    self.common_layer.append(tfkl.Conv2D(256,3,(1,1),padding=\"same\",activation='relu'))\n",
        "    self.common_layer.append(tfkl.Conv2D(256,3,(1,1),padding=\"same\",activation='relu'))\n",
        "    self.common_layer.append(tfkl.MaxPool2D(pool_size=(2,2),strides=(2,2)))\n",
        "    self.common_layer.append(tfkl.Conv2D(512,3,(1,1),padding=\"same\",activation='relu'))\n",
        "    self.common_layer.append(tfkl.Conv2D(512,3,(1,1),padding=\"same\",activation='relu'))\n",
        "    self.common_layer.append(tfkl.Conv2D(512,3,(1,1),padding=\"same\",activation='relu'))\n",
        "    self.common_layer.append(tfkl.Conv2D(512,3,(1,1),padding=\"same\",activation='relu'))\n",
        "    self.common_layer.append(tfkl.MaxPool2D(pool_size=(2,2),strides=(2,2)))\n",
        "    self.common_layer.append(tfkl.Conv2D(512,3,(1,1),padding=\"same\",activation='relu'))\n",
        "    self.common_layer.append(tfkl.Conv2D(512,3,(1,1),padding=\"same\",activation='relu'))\n",
        "    self.common_layer.append(tfkl.Conv2D(512,3,(1,1),padding=\"same\",activation='relu'))\n",
        "    self.common_layer.append(tfkl.Conv2D(512,3,(1,1),padding=\"same\",activation='relu'))\n",
        "    self.common_layer.append(tfkl.MaxPool2D(pool_size=(2,2),strides=(2,2)))\n",
        "    self.common_layer.append(tfkl.Flatten())\n",
        "    self.common_layer.append(tfkl.Dense(4096,activation='relu'))\n",
        "    self.common_layer.append(tfkl.Dropout(.3))\n",
        "    self.common_layer.append(tfkl.Dense(512,activation='relu'))\n",
        "    self.common_layer.append(tfkl.Dropout(.3))\n",
        "    self.common_layer.append(tfkl.Dense(64,activation='relu'))\n",
        "    self.common_layer.append(tfkl.Dense(1,activation='sigmoid'))\n",
        "    \n",
        "  \n",
        "  \n",
        "  def call(self,x):\n",
        "    x = tf.convert_to_tensor(tf.cast(x,dtype=tf.float32))\n",
        "    #x = tf.reshape(x,(4,224,224,3))\n",
        "    for layer in self.common_layer:\n",
        "      x = layer(x)\n",
        "      print(x.shape)\n",
        "    output =x\n",
        "    #print(out.shape)\n",
        "    return output\n",
        "    "
      ],
      "execution_count": 0,
      "outputs": []
    },
    {
      "cell_type": "code",
      "metadata": {
        "id": "t_lVQFBev2CH",
        "colab_type": "code",
        "colab": {}
      },
      "source": [
        "model = VGG()\n",
        "base_learning_rate = 0.001\n",
        "model.compile(optimizer=tf.keras.optimizers.RMSprop(lr=base_learning_rate),\n",
        "              loss='binary_crossentropy',\n",
        "              metrics=['accuracy'])\n"
      ],
      "execution_count": 0,
      "outputs": []
    },
    {
      "cell_type": "code",
      "metadata": {
        "id": "vd7BS2F4wRc9",
        "colab_type": "code",
        "colab": {}
      },
      "source": [
        "\n",
        "SPLIT_WEIGHTS = (8, 1, 1)\n",
        "splits = tfds.Split.TRAIN.subsplit(weighted=SPLIT_WEIGHTS)\n",
        "\n",
        "(raw_train, raw_validation, raw_test), metadata = tfds.load(\n",
        "    'cats_vs_dogs', split=list(splits),\n",
        "    with_info=True, as_supervised=True)\n",
        "\n",
        "IMG_SIZE = 224 # All images will be resized to 160x160\n",
        "\n",
        "def format_example(image, label):\n",
        "  image = tf.cast(image, tf.float32)\n",
        "  image = (image/127.5) - 1\n",
        "  image = tf.image.resize(image, (IMG_SIZE, IMG_SIZE))\n",
        "  return image, label\n",
        "\n",
        "train = raw_train.map(format_example)\n",
        "validation = raw_validation.map(format_example)\n",
        "test = raw_test.map(format_example)\n",
        "BATCH_SIZE = 32\n",
        "SHUFFLE_BUFFER_SIZE = 1000\n",
        "\n",
        "train_batches = train.shuffle(SHUFFLE_BUFFER_SIZE).batch(BATCH_SIZE)\n",
        "validation_batches = validation.batch(BATCH_SIZE)\n",
        "test_batches = test.batch(BATCH_SIZE)\n",
        "\n",
        "\n"
      ],
      "execution_count": 0,
      "outputs": []
    },
    {
      "cell_type": "code",
      "metadata": {
        "id": "otkpt0pKyCIS",
        "colab_type": "code",
        "colab": {
          "base_uri": "https://localhost:8080/",
          "height": 627
        },
        "outputId": "0dfd2fb1-6278-4701-f0f8-ccb0c9078f43"
      },
      "source": [
        "model.fit(train_batches,validation_data=validation_batches,epochs=10,verbose=2)"
      ],
      "execution_count": 0,
      "outputs": [
        {
          "output_type": "stream",
          "text": [
            "Epoch 1/10\n",
            "(None, 224, 224, 3)\n",
            "(None, 224, 224, 64)\n",
            "(None, 224, 224, 64)\n",
            "(None, 112, 112, 64)\n",
            "(None, 112, 112, 128)\n",
            "(None, 112, 112, 128)\n",
            "(None, 56, 56, 128)\n",
            "(None, 56, 56, 256)\n",
            "(None, 56, 56, 256)\n",
            "(None, 56, 56, 256)\n",
            "(None, 56, 56, 256)\n",
            "(None, 28, 28, 256)\n",
            "(None, 28, 28, 512)\n",
            "(None, 28, 28, 512)\n",
            "(None, 28, 28, 512)\n",
            "(None, 28, 28, 512)\n",
            "(None, 14, 14, 512)\n",
            "(None, 14, 14, 512)\n",
            "(None, 14, 14, 512)\n",
            "(None, 14, 14, 512)\n",
            "(None, 14, 14, 512)\n",
            "(None, 7, 7, 512)\n",
            "(None, 25088)\n",
            "(None, 4096)\n",
            "(None, 4096)\n",
            "(None, 512)\n",
            "(None, 512)\n",
            "(None, 64)\n",
            "(None, 1)\n"
          ],
          "name": "stdout"
        },
        {
          "output_type": "stream",
          "text": [
            "WARNING: Logging before flag parsing goes to stderr.\n",
            "W0629 17:37:44.170618 140649479255936 deprecation.py:323] From /usr/local/lib/python3.6/dist-packages/tensorflow/python/ops/math_grad.py:1250: add_dispatch_support.<locals>.wrapper (from tensorflow.python.ops.array_ops) is deprecated and will be removed in a future version.\n",
            "Instructions for updating:\n",
            "Use tf.where in 2.0, which has the same broadcast rule as np.where\n"
          ],
          "name": "stderr"
        }
      ]
    },
    {
      "cell_type": "code",
      "metadata": {
        "id": "SiYIxdN7yeEZ",
        "colab_type": "code",
        "colab": {
          "base_uri": "https://localhost:8080/",
          "height": 712
        },
        "outputId": "1fe5bfff-3c13-479c-bc37-af7724ecbc89"
      },
      "source": [
        "data = tf.random.normal([10,224,224,3])\n",
        "out = model(data)\n",
        "print(out)"
      ],
      "execution_count": 44,
      "outputs": [
        {
          "output_type": "stream",
          "text": [
            "(10, 224, 224, 3)\n",
            "(10, 224, 224, 64)\n",
            "(10, 224, 224, 64)\n",
            "(10, 112, 112, 64)\n",
            "(10, 112, 112, 128)\n",
            "(10, 112, 112, 128)\n",
            "(10, 56, 56, 128)\n",
            "(10, 56, 56, 256)\n",
            "(10, 56, 56, 256)\n",
            "(10, 56, 56, 256)\n",
            "(10, 56, 56, 256)\n",
            "(10, 28, 28, 256)\n",
            "(10, 28, 28, 512)\n",
            "(10, 28, 28, 512)\n",
            "(10, 28, 28, 512)\n",
            "(10, 28, 28, 512)\n",
            "(10, 14, 14, 512)\n",
            "(10, 14, 14, 512)\n",
            "(10, 14, 14, 512)\n",
            "(10, 14, 14, 512)\n",
            "(10, 14, 14, 512)\n",
            "(10, 7, 7, 512)\n",
            "(10, 25088)\n",
            "(10, 4096)\n",
            "(10, 4096)\n",
            "(10, 512)\n",
            "(10, 512)\n",
            "(10, 64)\n",
            "(10, 1)\n",
            "tf.Tensor(\n",
            "[[0.49963835]\n",
            " [0.49965045]\n",
            " [0.49966988]\n",
            " [0.49968433]\n",
            " [0.49969268]\n",
            " [0.499663  ]\n",
            " [0.499668  ]\n",
            " [0.49964985]\n",
            " [0.49962276]\n",
            " [0.49960762]], shape=(10, 1), dtype=float32)\n"
          ],
          "name": "stdout"
        }
      ]
    },
    {
      "cell_type": "code",
      "metadata": {
        "id": "cNQYW2clz3Ul",
        "colab_type": "code",
        "colab": {}
      },
      "source": [
        "#model.build(input_shape=(32,224,224,3))"
      ],
      "execution_count": 0,
      "outputs": []
    },
    {
      "cell_type": "code",
      "metadata": {
        "id": "jpLLf-d7Rn8q",
        "colab_type": "code",
        "colab": {}
      },
      "source": [
        ""
      ],
      "execution_count": 0,
      "outputs": []
    }
  ]
}