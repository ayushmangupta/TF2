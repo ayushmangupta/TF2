{
  "nbformat": 4,
  "nbformat_minor": 0,
  "metadata": {
    "colab": {
      "name": "Autoencoder.ipynb",
      "version": "0.3.2",
      "provenance": [],
      "collapsed_sections": [],
      "include_colab_link": true
    },
    "kernelspec": {
      "name": "python3",
      "display_name": "Python 3"
    }
  },
  "cells": [
    {
      "cell_type": "markdown",
      "metadata": {
        "id": "view-in-github",
        "colab_type": "text"
      },
      "source": [
        "<a href=\"https://colab.research.google.com/github/ayushmangupta/TF2/blob/master/Autoencoder.ipynb\" target=\"_parent\"><img src=\"https://colab.research.google.com/assets/colab-badge.svg\" alt=\"Open In Colab\"/></a>"
      ]
    },
    {
      "cell_type": "code",
      "metadata": {
        "id": "dSehXaa3Itdz",
        "colab_type": "code",
        "colab": {}
      },
      "source": [
        "import tensorflow as tf\n",
        "tf.enable_eager_execution()\n",
        "import tensorflow.keras as tfk\n",
        "import tensorflow.keras.layers as tfkl\n",
        "import matplotlib.pyplot as plt\n",
        "%matplotlib inline "
      ],
      "execution_count": 0,
      "outputs": []
    },
    {
      "cell_type": "code",
      "metadata": {
        "id": "MLrGeVpCJG1-",
        "colab_type": "code",
        "colab": {}
      },
      "source": [
        "class Encoder(tfk.Model):\n",
        "  def __init__(self,intermidiate_dim):\n",
        "    super(Encoder,self).__init__()\n",
        "    self.common_layer = []\n",
        "    self.common_layer.append(tfkl.InputLayer(input_shape=784))\n",
        "    self.common_layer.append(tfkl.Dense(units=intermidiate_dim,activation='relu'))\n",
        "    self.common_layer.append(tfkl.Dense(units=intermidiate_dim,activation='relu'))\n",
        " \n",
        "  \n",
        "  def call(self,x):\n",
        "    x = tf.reshape(x,[-1,784])\n",
        "    for layer in self.common_layer:\n",
        "      x = layer(x)\n",
        "    return x\n",
        "      "
      ],
      "execution_count": 0,
      "outputs": []
    },
    {
      "cell_type": "code",
      "metadata": {
        "id": "CGyYj-47U2vF",
        "colab_type": "code",
        "colab": {}
      },
      "source": [
        "class Decoder(tfk.Model):\n",
        "  def __init__(self,intermidiate_dim,orignal_dim):\n",
        "    \n",
        "    super(Decoder,self).__init__()\n",
        "    self.intermidiate_dim = intermidiate_dim\n",
        "    self.common_layer = []\n",
        "    self.common_layer.append(tfkl.InputLayer(input_shape=self.intermidiate_dim))\n",
        "    self.common_layer.append(tfkl.Dense(units=self.intermidiate_dim,activation='relu'))\n",
        "    self.common_layer.append(tfkl.Dense(units=orignal_dim,activation='relu'))\n",
        " \n",
        "  \n",
        "  def call(self,x):\n",
        "    x = tf.reshape(x,[-1,self.intermidiate_dim])\n",
        "    for layer in self.common_layer:\n",
        "      x = layer(x)\n",
        "      \n",
        "    return x\n",
        "      "
      ],
      "execution_count": 0,
      "outputs": []
    },
    {
      "cell_type": "code",
      "metadata": {
        "id": "hnREU58yTSZJ",
        "colab_type": "code",
        "colab": {}
      },
      "source": [
        "data = tf.random.normal([32,784])"
      ],
      "execution_count": 0,
      "outputs": []
    },
    {
      "cell_type": "code",
      "metadata": {
        "id": "vio2V-4bUEY3",
        "colab_type": "code",
        "colab": {}
      },
      "source": [
        "class AE(tfk.Model):\n",
        "  def __init__(self,intermidiate_dim, orignal_dim):\n",
        "    super(AE,self).__init__()\n",
        "    \n",
        "    self.encoder = Encoder(intermidiate_dim)\n",
        "    self.decoder = Decoder(intermidiate_dim, orignal_dim)\n",
        "    \n",
        "    \n",
        "  def call(self,x):\n",
        "    x = self.encoder(x)\n",
        "    x = self.decoder(x)\n",
        "    \n",
        "    return x"
      ],
      "execution_count": 0,
      "outputs": []
    },
    {
      "cell_type": "code",
      "metadata": {
        "id": "g2KlEu1MUGTK",
        "colab_type": "code",
        "colab": {}
      },
      "source": [
        "model = AE(64,784)"
      ],
      "execution_count": 0,
      "outputs": []
    },
    {
      "cell_type": "code",
      "metadata": {
        "id": "GKTHcXUhc40W",
        "colab_type": "code",
        "colab": {}
      },
      "source": [
        ""
      ],
      "execution_count": 0,
      "outputs": []
    },
    {
      "cell_type": "code",
      "metadata": {
        "id": "uVcVwLgCjRST",
        "colab_type": "code",
        "colab": {}
      },
      "source": [
        "mnist = tf.keras.datasets.mnist\n",
        "\n",
        "(x_train, y_train), (x_test, y_test) = mnist.load_data()\n",
        "x_train, x_test = x_train / 255.0, x_test / 255.0\n",
        "\n",
        "x_train = tf.cast(x_train,tf.float32)\n",
        "x_test = tf.cast(x_test,tf.float32)\n",
        "\n",
        "x_train = tf.reshape(x_train,shape=[60000,784])\n",
        "x_test = tf.reshape(x_test,shape=[10000,784])\n",
        "# Add a channels dimension\n",
        "#x_train = x_train[..., tf.newaxis]\n",
        "#x_test = x_test[..., tf.newaxis]\n",
        "#print(x_train.shape)\n",
        "#Use tf.data to batch and shuffle the dataset:\n",
        "\n",
        "train_ds = tf.data.Dataset.from_tensor_slices(\n",
        "     (x_train)).shuffle(10000).batch(32)\n",
        "test_ds = tf.data.Dataset.from_tensor_slices(\n",
        "     (x_test)).shuffle(10000).batch(32)\n",
        "# test_ds = tf.data.Dataset.from_tensor_slices((x_test, y_test)).batch(32)"
      ],
      "execution_count": 0,
      "outputs": []
    },
    {
      "cell_type": "code",
      "metadata": {
        "id": "9KPE4rnUnMOW",
        "colab_type": "code",
        "colab": {}
      },
      "source": [
        "def loss_function(x,x_hat):\n",
        "  #print(x.dtype,x_hat.dtype)\n",
        "  reconstruction_error = tf.reduce_mean(tf.square(tf.subtract(x,x_hat)))\n",
        "  return reconstruction_error\n",
        "\n",
        "optimizer = tf.keras.optimizers.Adam(0.001)\n",
        "\n",
        "train_loss = tf.keras.metrics.Mean(name='train_loss')\n",
        "train_accuracy = tf.keras.metrics.SparseCategoricalAccuracy(name='train_accuracy')\n",
        "\n",
        "test_loss = tf.keras.metrics.Mean(name='test_loss')\n",
        "test_accuracy = tf.keras.metrics.SparseCategoricalAccuracy(name='test_accuracy')"
      ],
      "execution_count": 0,
      "outputs": []
    },
    {
      "cell_type": "code",
      "metadata": {
        "id": "xBJw9R5Tph74",
        "colab_type": "code",
        "colab": {}
      },
      "source": [
        "@tf.function\n",
        "def train_step(x):\n",
        "  with tf.GradientTape() as tape:\n",
        "    x_hat = model(x)\n",
        "    print(\"model_out\")\n",
        "    loss = loss_function(x,x_hat)\n",
        "    \n",
        "    print(\"loss out\",loss)\n",
        "  gradients = tape.gradient(loss, model.trainable_variables)\n",
        "  optimizer.apply_gradients(zip(gradients, model.trainable_variables))\n",
        "\n",
        "  train_loss(loss)\n",
        "  #train_accuracy(labels, predictions)\n",
        "\n",
        "@tf.function\n",
        "def test_step(images):\n",
        "  predictions = model(images)\n",
        "  t_loss = loss_function(images,predictions)\n",
        "\n",
        "  test_loss(t_loss)\n",
        "  #test_accuracy(labels, predictions)"
      ],
      "execution_count": 0,
      "outputs": []
    },
    {
      "cell_type": "code",
      "metadata": {
        "id": "WuVaqdxFpi4L",
        "colab_type": "code",
        "colab": {
          "base_uri": "https://localhost:8080/",
          "height": 407
        },
        "outputId": "d237218b-2b00-4e13-ec1a-66a9129afc9d"
      },
      "source": [
        "EPOCHS = 20\n",
        "\n",
        "for epoch in range(EPOCHS):\n",
        "  for images in train_ds:\n",
        "    train_step(images)\n",
        "\n",
        "  for test_images in test_ds:\n",
        "    test_step(test_images)\n",
        "\n",
        "  template = 'Epoch {}, Loss: {},Test Loss: {}'\n",
        "  #template = \"EPOCH {} Loss {} \"\n",
        "  print (template.format(epoch+1,\n",
        "                         train_loss.result(),\n",
        "                         \n",
        "                         test_loss.result()))  "
      ],
      "execution_count": 10,
      "outputs": [
        {
          "output_type": "stream",
          "text": [
            "model_out\n",
            "loss out Tensor(\"Mean:0\", shape=(), dtype=float32)\n",
            "model_out\n",
            "loss out Tensor(\"Mean:0\", shape=(), dtype=float32)\n",
            "Epoch 1, Loss: 0.023732570931315422,Test Loss: 0.017191173508763313\n",
            "Epoch 2, Loss: 0.020122870802879333,Test Loss: 0.01628013141453266\n",
            "Epoch 3, Loss: 0.01845073699951172,Test Loss: 0.015760038048028946\n",
            "Epoch 4, Loss: 0.01745566353201866,Test Loss: 0.015372064895927906\n",
            "Epoch 5, Loss: 0.01678040809929371,Test Loss: 0.015072575770318508\n",
            "Epoch 6, Loss: 0.01629091240465641,Test Loss: 0.0148395337164402\n",
            "Epoch 7, Loss: 0.015915418043732643,Test Loss: 0.01464263815432787\n",
            "Epoch 8, Loss: 0.015613699331879616,Test Loss: 0.014487100765109062\n",
            "Epoch 9, Loss: 0.01536946278065443,Test Loss: 0.014359545893967152\n",
            "Epoch 10, Loss: 0.01516480278223753,Test Loss: 0.014247932471334934\n",
            "Epoch 11, Loss: 0.014991918578743935,Test Loss: 0.014152280054986477\n",
            "Epoch 12, Loss: 0.014844691380858421,Test Loss: 0.014070524834096432\n",
            "Epoch 13, Loss: 0.014717909507453442,Test Loss: 0.013998420909047127\n",
            "Epoch 14, Loss: 0.014607549645006657,Test Loss: 0.013935579918324947\n",
            "Epoch 15, Loss: 0.014509513042867184,Test Loss: 0.013874184340238571\n",
            "Epoch 16, Loss: 0.014405231922864914,Test Loss: 0.01379928644746542\n",
            "Epoch 17, Loss: 0.014308864250779152,Test Loss: 0.013731780461966991\n",
            "Epoch 18, Loss: 0.014222154393792152,Test Loss: 0.013670488260686398\n",
            "Epoch 19, Loss: 0.014143791049718857,Test Loss: 0.013615237548947334\n",
            "Epoch 20, Loss: 0.014072651043534279,Test Loss: 0.013564825989305973\n"
          ],
          "name": "stdout"
        }
      ]
    },
    {
      "cell_type": "code",
      "metadata": {
        "id": "ZNA693D2XRk9",
        "colab_type": "code",
        "colab": {}
      },
      "source": [
        "for images in test_ds:\n",
        "  dd = model(images)\n",
        "  break"
      ],
      "execution_count": 0,
      "outputs": []
    },
    {
      "cell_type": "code",
      "metadata": {
        "id": "NtWrCk4bc50m",
        "colab_type": "code",
        "colab": {}
      },
      "source": [
        ""
      ],
      "execution_count": 0,
      "outputs": []
    },
    {
      "cell_type": "code",
      "metadata": {
        "id": "Si9pWAm8Y_Ek",
        "colab_type": "code",
        "colab": {
          "base_uri": "https://localhost:8080/",
          "height": 270
        },
        "outputId": "a2261619-8f1f-4a9e-ff94-1516fcb16cb0"
      },
      "source": [
        "for i in range(9):\n",
        "  plt.subplot(3,3,i+1)\n",
        "  plt.imshow(tf.reshape(dd[i],[28,28]),cmap=\"binary\")\n",
        "plt.show()"
      ],
      "execution_count": 12,
      "outputs": [
        {
          "output_type": "display_data",
          "data": {
            "image/png": "[encoded data removed]",
            "text/plain": [
              "<Figure size 432x288 with 9 Axes>"
            ]
          },
          "metadata": {
            "tags": []
          }
        }
      ]
    },
    {
      "cell_type": "code",
      "metadata": {
        "id": "Uk43Mtz0gUVy",
        "colab_type": "code",
        "colab": {}
      },
      "source": [
        ""
      ],
      "execution_count": 0,
      "outputs": []
    }
  ]
}