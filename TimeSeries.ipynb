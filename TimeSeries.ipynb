{
  "nbformat": 4,
  "nbformat_minor": 0,
  "metadata": {
    "colab": {
      "name": "TimeSeries.ipynb",
      "provenance": [],
      "collapsed_sections": [],
      "authorship_tag": "ABX9TyNXoTkBf80utzCQ7r1vp8C2",
      "include_colab_link": true
    },
    "kernelspec": {
      "name": "python3",
      "display_name": "Python 3"
    }
  },
  "cells": [
    {
      "cell_type": "markdown",
      "metadata": {
        "id": "view-in-github",
        "colab_type": "text"
      },
      "source": [
        "<a href=\"https://colab.research.google.com/github/ayushmangupta/TF2/blob/master/TimeSeries.ipynb\" target=\"_parent\"><img src=\"https://colab.research.google.com/assets/colab-badge.svg\" alt=\"Open In Colab\"/></a>"
      ]
    },
    {
      "cell_type": "markdown",
      "metadata": {
        "id": "puakWoQmGV0v",
        "colab_type": "text"
      },
      "source": [
        "Time Series Modeling and Forecasting "
      ]
    },
    {
      "cell_type": "markdown",
      "metadata": {
        "id": "uuupv_M2GjnQ",
        "colab_type": "text"
      },
      "source": [
        "### Basic Concepts of Time Series Modeling\n",
        "* Definition of A Time Series\n",
        "* Components of A Time Series\n",
        "* Examples of Time Series Data \n",
        "* Introduction to Time Series Analysis\n",
        "* Time Series and Stochastic Process \n",
        "* Concept of Stationarity \n",
        "* Model Parsimony "
      ]
    },
    {
      "cell_type": "markdown",
      "metadata": {
        "id": "tOWQOMwJGqR8",
        "colab_type": "text"
      },
      "source": [
        "### Time Series Forecasting Using Stochastic Models \n",
        "* Introduction \n",
        "* The Autoregressive Moving Average (ARMA) Models \n",
        "* Stationarity Analysis \n",
        "* Autocorrelation and Partial Autocorrelation Functions \n",
        "* Autoregressive Integrated Moving Average (ARIMA) Models \n",
        "* Seasonal Autoregressive Integrated Moving Average (SARIMA) Models \n",
        "* Some Nonlinear Time Series Models \n",
        "* Box-Jenkins Methodology "
      ]
    },
    {
      "cell_type": "markdown",
      "metadata": {
        "id": "Wn8V4OM2GsnU",
        "colab_type": "text"
      },
      "source": [
        "### Time Series Forecasting Using Artificial Neural Networks \n",
        "* Artificial Neural Networks (ANNs) \n",
        "* The ANN Architecture \n",
        "* Time Lagged Neural Networks (TLNN) \n",
        "* Seasonal Artificial Neural Networks (SANN) \n",
        "* Selection of A Proper Network Architecture "
      ]
    },
    {
      "cell_type": "markdown",
      "metadata": {
        "id": "GgylFmOMGvD5",
        "colab_type": "text"
      },
      "source": [
        "### Time Series Forecasting Using Support Vector Machines \n",
        "* Concept of Support Vector Machines \n",
        "* Introduction to Statistical Learning Theory \n",
        "* Empirical Risk Minimization (ERM) \n",
        "* Vapnik-Chervonenkis (VC) Dimension \n",
        "* Structural Risk Minimization (SRM) \n",
        "* Support Vector Machines (SVMs) \n",
        "* Support Vector Kernels \n",
        "* SVM for Regression (SVR) \n",
        "* The LS-SVM Method \n",
        "* The DLS-SVM Method "
      ]
    },
    {
      "cell_type": "markdown",
      "metadata": {
        "id": "JKRxxIgWGxdg",
        "colab_type": "text"
      },
      "source": [
        "### Forecast Performance Measures \n",
        "* Making Real Time Forecasts: A Few Points \n",
        "* Description of Various Forecast Performance Measures \n",
        "* The Mean Forecast Error (MFE) \n",
        "* The Mean Absolute Error (MAE) \n",
        "* The Mean Absolute Percentage Error (MAPE) \n",
        "* The Mean Percentage Error (MPE) \n",
        "* The Mean Squared Error (MSE) \n",
        "* The Sum of Squared Error (SSE) \n",
        "* The Signed Mean Squared Error (SMSE) \n",
        "* The Root Mean Squared Error (RMSE) \n",
        "* The Normalized Mean Squared Error (NMSE) \n",
        "* The Theil’s U-statistics "
      ]
    },
    {
      "cell_type": "markdown",
      "metadata": {
        "id": "dTVPXaHDG0z2",
        "colab_type": "text"
      },
      "source": [
        "### Experimental Results \n",
        "* A Brief Overview\n",
        "* The Canadian Lynx Dataset \n",
        "* The Wolf’s Sunspot Dataset \n",
        "* The Airline Passenger Dataset \n",
        "* The Quarterly Sales Dataset \n",
        "* The Quarterly U.S. Beer Production Dataset \n",
        "* The Monthly USA Accidental Deaths Dataset "
      ]
    },
    {
      "cell_type": "markdown",
      "metadata": {
        "id": "1p1O8nsSG1c4",
        "colab_type": "text"
      },
      "source": [
        "### Datasets Sources\n",
        "\n",
        " five performance measures, viz. MSE,\n",
        "MAD, RMSE, MAPE and Theil’s U-statistics. \n",
        "\n",
        "https://paperswithcode.com/sota/time-series-on-bitcoin-alpha\n",
        "\n",
        "\n",
        "https://lovvge.github.io/Forecasting-Tutorials/SIGMOD-2019/\n",
        "\n",
        "#### Introduction to Forecasting\n",
        "* Basic elements of forecasting\n",
        "* Forecast Evaluation: metrics, backtest scenarios\n",
        "#### Classical Models\n",
        "* Generalized Linear Models\n",
        "* Linear Dynamical System\n",
        "* Exponential Smoothing and Innovative State-space modeling\n",
        "#### Neural Network Models\n",
        "* Multi-layer Perceptron\n",
        "* Recurrent Neural Networks (RNN)\n",
        "* Bayesian RNN\n",
        "* CNN-based models"
      ]
    },
    {
      "cell_type": "code",
      "metadata": {
        "id": "daJPRNj1GKii",
        "colab_type": "code",
        "outputId": "7cd81236-3b58-4731-db44-8aa3abb89e27",
        "colab": {
          "base_uri": "https://localhost:8080/",
          "height": 130
        }
      },
      "source": [
        "https://arxiv.org/pdf/1302.6613.pdf"
      ],
      "execution_count": 0,
      "outputs": [
        {
          "output_type": "error",
          "ename": "SyntaxError",
          "evalue": "ignored",
          "traceback": [
            "\u001b[0;36m  File \u001b[0;32m\"<ipython-input-3-50325f7c6d0d>\"\u001b[0;36m, line \u001b[0;32m1\u001b[0m\n\u001b[0;31m    https://arxiv.org/pdf/1302.6613.pdf\u001b[0m\n\u001b[0m           ^\u001b[0m\n\u001b[0;31mSyntaxError\u001b[0m\u001b[0;31m:\u001b[0m invalid syntax\n"
          ]
        }
      ]
    },
    {
      "cell_type": "markdown",
      "metadata": {
        "id": "0pNbn8HQJcSH",
        "colab_type": "text"
      },
      "source": [
        ""
      ]
    },
    {
      "cell_type": "markdown",
      "metadata": {
        "id": "5ab74dOFJcPR",
        "colab_type": "text"
      },
      "source": [
        ""
      ]
    },
    {
      "cell_type": "markdown",
      "metadata": {
        "id": "iUBquJUSJcMa",
        "colab_type": "text"
      },
      "source": [
        ""
      ]
    },
    {
      "cell_type": "code",
      "metadata": {
        "id": "T_grnh06Jb9d",
        "colab_type": "code",
        "colab": {}
      },
      "source": [
        "import pandas as pd\n",
        "url = \"https://raw.githubusercontent.com/numenta/NAB/master/data/realTweets/Twitter_volume_AMZN.csv\"\n",
        "df = pd.read_csv(url, header=0, index_col=0)"
      ],
      "execution_count": 0,
      "outputs": []
    },
    {
      "cell_type": "code",
      "metadata": {
        "id": "1UqJxocYJyWE",
        "colab_type": "code",
        "outputId": "63690830-d3d7-442b-a507-7d76688e3d87",
        "colab": {
          "base_uri": "https://localhost:8080/",
          "height": 272
        }
      },
      "source": [
        "print(df)"
      ],
      "execution_count": 0,
      "outputs": [
        {
          "output_type": "stream",
          "text": [
            "                     value\n",
            "timestamp                 \n",
            "2015-02-26 21:42:53     57\n",
            "2015-02-26 21:47:53     43\n",
            "2015-02-26 21:52:53     55\n",
            "2015-02-26 21:57:53     64\n",
            "2015-02-26 22:02:53     93\n",
            "...                    ...\n",
            "2015-04-22 20:32:53     51\n",
            "2015-04-22 20:37:53     54\n",
            "2015-04-22 20:42:53     46\n",
            "2015-04-22 20:47:53     56\n",
            "2015-04-22 20:52:53     50\n",
            "\n",
            "[15831 rows x 1 columns]\n"
          ],
          "name": "stdout"
        }
      ]
    },
    {
      "cell_type": "markdown",
      "metadata": {
        "id": "QUHrTo50GVET",
        "colab_type": "text"
      },
      "source": [
        ""
      ]
    },
    {
      "cell_type": "markdown",
      "metadata": {
        "id": "v3dg5TYsVnsu",
        "colab_type": "text"
      },
      "source": [
        "###  Hyndman code\n",
        "Drive folder for data\n"
      ]
    },
    {
      "cell_type": "code",
      "metadata": {
        "id": "QNcXI4XkVh0X",
        "colab_type": "code",
        "colab": {}
      },
      "source": [
        "https://github.com/mscharth/ml-workshop/blob/master/02%20Regularised%20Linear%20Models.ipynb"
      ],
      "execution_count": 0,
      "outputs": []
    },
    {
      "cell_type": "markdown",
      "metadata": {
        "id": "kch44fxXKKOv",
        "colab_type": "text"
      },
      "source": [
        "https://www.youtube.com/watch?v=aXPh0NWNfcc\n",
        "\n",
        "\n",
        "### Ts features\n",
        "https://pkg.robjhyndman.com/tsfeatures/articles/tsfeatures.html\n",
        "\n",
        "\n",
        "### Time Series analysis with python\n",
        "https://github.com/AileenNielsen/TimeSeriesAnalysisWithPython/blob/master/6.%20Trend%20%26%20Seasonality.ipynb"
      ]
    },
    {
      "cell_type": "markdown",
      "metadata": {
        "id": "D7t8edYefBAZ",
        "colab_type": "text"
      },
      "source": [
        "# Probabilistic Programming\n",
        "\n",
        "## PYMC\n",
        "- Probability Distribution\n",
        "- Gaussian Process \n",
        "- Variational Inference\n",
        "\n",
        "### [PYMC Examples](https://docs.pymc.io/nb_examples/index.html)\n",
        "\n",
        "\n",
        "Time Series\n",
        "- Analysis of An 𝐴𝑅(1) Model in pyMC3\n",
        "- Multivariate Gaussian Random Walk\n",
        "- Inferring parameters of SDEs using a Euler-Maruyama scheme\n",
        "\n",
        "\n",
        "### Variational Inference\n",
        "* GLM: Mini-batch ADVI on hierarchical regression model\n",
        "* Gaussian Mixture Model ADVI\n",
        "* Automatic autoencoding variational Bayes for latent dirichlet allocation with PyMC3 [Paper](https://arxiv.org/abs/1312.6114)\n",
        "\n",
        "* Normalizing Flows Overview\n",
        "\n",
        "\n",
        "#### EM Algorithms \n",
        "* Flaxman (http://www.stats.ox.ac.uk/~flaxman/HT17_lecture6.pdf)"
      ]
    },
    {
      "cell_type": "markdown",
      "metadata": {
        "id": "vO2-Jvz-ukAT",
        "colab_type": "text"
      },
      "source": [
        "### Backtest\n",
        "* Annual return\t14.9%\n",
        "* Cumulative returns\t744.4%\n",
        "* Annual volatility\t16.3%\n",
        "* Sharpe ratio\t0.94\n",
        "* Calmar ratio\t0.66\n",
        "* Stability\t0.97\n",
        "* Max drawdown\t-22.4%\n",
        "* Omega ratio\t1.17\n",
        "* Sortino ratio\t1.31\n",
        "* Skew\t-0.46\n",
        "* Kurtosis\t1.49\n",
        "* Tail ratio\t0.97\n",
        "* Daily value at risk\t-2.0%\n",
        "* Alpha\t0.13\n",
        "* Beta\t0.18\n",
        "\n",
        "\n",
        "> Build different charts like monthly returns, return distribution\n",
        "\n",
        "\n",
        "\n",
        "\n",
        "Momentum\n",
        "* https://www.quantopian.com/posts/quantopian-based-paper-on-momentum-with-volatility-timing\n",
        "\n",
        "* book python [link](https://www.amazon.com/Trading-Evolved-Anyone-Killer-Strategies-ebook-dp-B07VDLX55H/dp/B07VDLX55H/ref=mt_kindle?_encoding=UTF8&me=&qid=)\n",
        "\n",
        "* "
      ]
    },
    {
      "cell_type": "markdown",
      "metadata": {
        "id": "yk6sB6IA-TZv",
        "colab_type": "text"
      },
      "source": [
        "## Statistical Rethinking \n",
        "\n",
        "* W1 - Bayesian Inference\n",
        "* W2 - Linear Models\n",
        "* W3 - More Linear Models\n",
        "* W4 - Overfitting\n",
        "* W5 - Interactions\n",
        "* W6 - MCMC & GLMs\n",
        "* W7 - GLMs II\n",
        "* W8 - Multilevel Models I\n",
        "* W9 - Multilevel Models II\n",
        "* W10 - Measurement Error\n",
        "\n",
        "---- \n",
        "\n",
        "* https://github.com/rmcelreath/statrethinking_winter2019\n",
        "* https://ksachdeva.github.io/rethinking-tensorflow-probability/"
      ]
    },
    {
      "cell_type": "code",
      "metadata": {
        "id": "VQ9TjiXYKMsj",
        "colab_type": "code",
        "colab": {}
      },
      "source": [
        ""
      ],
      "execution_count": 0,
      "outputs": []
    },
    {
      "cell_type": "code",
      "metadata": {
        "id": "XAtUu_yelbtR",
        "colab_type": "code",
        "colab": {}
      },
      "source": [
        ""
      ],
      "execution_count": 0,
      "outputs": []
    }
  ]
}