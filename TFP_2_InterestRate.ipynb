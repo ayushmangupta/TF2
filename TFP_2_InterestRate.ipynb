{
  "nbformat": 4,
  "nbformat_minor": 0,
  "metadata": {
    "colab": {
      "name": "TFP-2-InterestRate.ipynb",
      "version": "0.3.2",
      "provenance": [],
      "include_colab_link": true
    },
    "kernelspec": {
      "name": "python3",
      "display_name": "Python 3"
    }
  },
  "cells": [
    {
      "cell_type": "markdown",
      "metadata": {
        "id": "view-in-github",
        "colab_type": "text"
      },
      "source": [
        "<a href=\"https://colab.research.google.com/github/ayushmangupta/TF2/blob/master/TFP_2_InterestRate.ipynb\" target=\"_parent\"><img src=\"https://colab.research.google.com/assets/colab-badge.svg\" alt=\"Open In Colab\"/></a>"
      ]
    },
    {
      "cell_type": "markdown",
      "metadata": {
        "id": "zw6oBUmOD0x9",
        "colab_type": "text"
      },
      "source": [
        ""
      ]
    },
    {
      "cell_type": "code",
      "metadata": {
        "id": "0oQX0tSzD0jK",
        "colab_type": "code",
        "colab": {
          "base_uri": "https://localhost:8080/",
          "height": 104
        },
        "outputId": "f7bbf8ea-152c-4621-b50a-564acc818f96"
      },
      "source": [
        "!pip install --upgrade tensorflow-probability"
      ],
      "execution_count": 1,
      "outputs": [
        {
          "output_type": "stream",
          "text": [
            "Requirement already up-to-date: tensorflow-probability in /usr/local/lib/python3.6/dist-packages (0.7.0)\n",
            "Requirement already satisfied, skipping upgrade: decorator in /usr/local/lib/python3.6/dist-packages (from tensorflow-probability) (4.4.0)\n",
            "Requirement already satisfied, skipping upgrade: cloudpickle>=0.6.1 in /usr/local/lib/python3.6/dist-packages (from tensorflow-probability) (0.6.1)\n",
            "Requirement already satisfied, skipping upgrade: six>=1.10.0 in /usr/local/lib/python3.6/dist-packages (from tensorflow-probability) (1.12.0)\n",
            "Requirement already satisfied, skipping upgrade: numpy>=1.13.3 in /usr/local/lib/python3.6/dist-packages (from tensorflow-probability) (1.16.4)\n"
          ],
          "name": "stdout"
        }
      ]
    },
    {
      "cell_type": "code",
      "metadata": {
        "id": "AsYVyU-WDwuv",
        "colab_type": "code",
        "colab": {
          "base_uri": "https://localhost:8080/",
          "height": 34
        },
        "outputId": "69b77ee6-c6f0-4aa4-fdcb-f45b10fb5c94"
      },
      "source": [
        "%matplotlib inline\n",
        "import tensorflow as tf\n",
        "tf.enable_eager_execution()\n",
        "import tensorflow_probability as tfp\n",
        "import numpy as np\n",
        "import tensorflow.keras as tfk\n",
        "from tensorflow_probability import distributions as tfd \n",
        "import matplotlib.pyplot as plt\n",
        "tfb = tfp.bijectors\n",
        "import seaborn as sns\n",
        "sns.reset_defaults()\n",
        "sns.set_context(context='talk',font_scale=0.7)\n",
        "plt.rcParams['image.cmap'] = 'viridis'\n",
        "class _TFColor(object):\n",
        "  \"\"\"Enum of colors used in TF docs.\"\"\"\n",
        "  red = '#F15854'\n",
        "  blue = '#5DA5DA'\n",
        "  orange = '#FAA43A'\n",
        "  green = '#60BD68'\n",
        "  pink = '#F17CB0'\n",
        "  brown = '#B2912F'\n",
        "  purple = '#B276B2'\n",
        "  yellow = '#DECF3F'\n",
        "  gray = '#4D4D4D'\n",
        "  def __getitem__(self, i):\n",
        "    return [\n",
        "        self.red,\n",
        "        self.orange,\n",
        "        self.green,\n",
        "        self.blue,\n",
        "        self.pink,\n",
        "        self.brown,\n",
        "        self.purple,\n",
        "        self.yellow,\n",
        "        self.gray,\n",
        "    ][i % 9]\n",
        "TFColor = _TFColor()\n",
        "print(tf.__version__)"
      ],
      "execution_count": 44,
      "outputs": [
        {
          "output_type": "stream",
          "text": [
            "1.14.0\n"
          ],
          "name": "stdout"
        }
      ]
    },
    {
      "cell_type": "code",
      "metadata": {
        "id": "0g15J9bCD2VQ",
        "colab_type": "code",
        "colab": {}
      },
      "source": [
        "num_times_interest_rate_increase = 8\n",
        "fed_increases_rate_prob = tf.constant([.6,.7,.8,.9])\n",
        "x = tf.range(0.0,num_times_interest_rate_increase+1)\n",
        "possible_interest_rate = 10.0+2.0+x"
      ],
      "execution_count": 0,
      "outputs": []
    },
    {
      "cell_type": "code",
      "metadata": {
        "id": "0jaEwS8DE0or",
        "colab_type": "code",
        "colab": {}
      },
      "source": [
        "model = tfd.Binomial(num_times_interest_rate_increase,fed_increases_rate_prob[:,tf.newaxis]).prob(x)"
      ],
      "execution_count": 0,
      "outputs": []
    },
    {
      "cell_type": "code",
      "metadata": {
        "id": "WoouV1LRFG-c",
        "colab_type": "code",
        "colab": {
          "base_uri": "https://localhost:8080/",
          "height": 540
        },
        "outputId": "773b65ef-9ea5-4e57-eb33-763d38320421"
      },
      "source": [
        "plt.figure(figsize=(12,6))\n",
        "probs_=[0.6,0.7,0.8,0.9]\n",
        "for i in range(4):\n",
        "  plt.subplot(2,2,i+1)\n",
        "  plt.bar(x=possible_interest_rate,height=model[i,:],alpha=.6,label=str(probs_[i]),color=TFColor[i],edgecolor='black')\n",
        "  #plt.legend()\n",
        "plt.show()"
      ],
      "execution_count": 48,
      "outputs": [
        {
          "output_type": "display_data",
          "data": {
            "image/png": "[encoded data removed]",
            "text/plain": [
              "<Figure size 1200x600 with 4 Axes>"
            ]
          },
          "metadata": {
            "tags": []
          }
        }
      ]
    }
  ]
}