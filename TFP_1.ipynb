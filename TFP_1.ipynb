{
  "nbformat": 4,
  "nbformat_minor": 0,
  "metadata": {
    "colab": {
      "name": "TFP-1.ipynb",
      "version": "0.3.2",
      "provenance": [],
      "collapsed_sections": [],
      "include_colab_link": true
    },
    "kernelspec": {
      "name": "python3",
      "display_name": "Python 3"
    }
  },
  "cells": [
    {
      "cell_type": "markdown",
      "metadata": {
        "id": "view-in-github",
        "colab_type": "text"
      },
      "source": [
        "<a href=\"https://colab.research.google.com/github/ayushmangupta/TF2/blob/master/TFP_1.ipynb\" target=\"_parent\"><img src=\"https://colab.research.google.com/assets/colab-badge.svg\" alt=\"Open In Colab\"/></a>"
      ]
    },
    {
      "cell_type": "markdown",
      "metadata": {
        "id": "UW9euzdql_P_",
        "colab_type": "text"
      },
      "source": [
        "**TensorFlow Probability is a library for probabilistic reasoning and statistical analysis**\n",
        "\n",
        "- Modelling \n",
        "- Inference\n",
        "- Criticism\n",
        "\n",
        "#### Lower level components :\n",
        "\n",
        " - Bijectors\n",
        " - Distributions\n",
        " \n",
        "####  High Level Components: \n",
        " \n",
        " - MCMC\n",
        " - Probabilistic Layer\n",
        " - Structural Time Series\n",
        " - Optimizers\n",
        " - GLMs\n",
        " - Edward2\n",
        " "
      ]
    },
    {
      "cell_type": "code",
      "metadata": {
        "id": "BYOPM8QGWcIW",
        "colab_type": "code",
        "colab": {}
      },
      "source": [
        "#!pip install --upgrade tensorflow-probability"
      ],
      "execution_count": 0,
      "outputs": []
    },
    {
      "cell_type": "code",
      "metadata": {
        "id": "rT-6dl2AWgTe",
        "colab_type": "code",
        "colab": {
          "base_uri": "https://localhost:8080/",
          "height": 34
        },
        "outputId": "4890e38d-ff1f-4586-e0d8-bd5f0884630b"
      },
      "source": [
        "%matplotlib inline\n",
        "import tensorflow as tf\n",
        "tf.enable_eager_execution()\n",
        "import tensorflow_probability as tfp\n",
        "import numpy as np\n",
        "import tensorflow.keras as tfk\n",
        "from tensorflow_probability import distributions as tfd \n",
        "import matplotlib.pyplot as plt\n",
        "tfb = tfp.bijectors\n",
        "import seaborn as sns\n",
        "sns.reset_defaults()\n",
        "sns.set_context(context='talk',font_scale=0.7)\n",
        "plt.rcParams['image.cmap'] = 'viridis'\n",
        "print(tf.__version__)"
      ],
      "execution_count": 125,
      "outputs": [
        {
          "output_type": "stream",
          "text": [
            "1.14.0-rc1\n"
          ],
          "name": "stdout"
        }
      ]
    },
    {
      "cell_type": "markdown",
      "metadata": {
        "id": "5pbf7YmPsw94",
        "colab_type": "text"
      },
      "source": [
        ""
      ]
    },
    {
      "cell_type": "code",
      "metadata": {
        "id": "5DcvqbhdslzS",
        "colab_type": "code",
        "colab": {}
      },
      "source": [
        "#@title Utils { display-mode: \"form\" }\n",
        "def print_subclasses_from_module(module, base_class, maxwidth=80):\n",
        "  import functools, inspect, sys\n",
        "  subclasses = [name for name, obj in inspect.getmembers(module)\n",
        "                if inspect.isclass(obj) and issubclass(obj, base_class)]\n",
        "  def red(acc, x):\n",
        "    if not acc or len(acc[-1]) + len(x) + 2 > maxwidth:\n",
        "      acc.append(x)\n",
        "    else:\n",
        "      acc[-1] += \", \" + x\n",
        "    return acc\n",
        "  print('\\n'.join(functools.reduce(red, subclasses, [])))\n"
      ],
      "execution_count": 0,
      "outputs": []
    },
    {
      "cell_type": "markdown",
      "metadata": {
        "id": "_pS8-NJKbOxP",
        "colab_type": "text"
      },
      "source": [
        "**Poission Distribution**"
      ]
    },
    {
      "cell_type": "code",
      "metadata": {
        "id": "BolyE1o7WwUE",
        "colab_type": "code",
        "colab": {}
      },
      "source": [
        "poi = tfd.Poisson(rate=3)\n"
      ],
      "execution_count": 0,
      "outputs": []
    },
    {
      "cell_type": "code",
      "metadata": {
        "id": "BLmtfiXqYrJT",
        "colab_type": "code",
        "colab": {
          "base_uri": "https://localhost:8080/",
          "height": 403
        },
        "outputId": "4c742d53-1e96-4d33-9ace-6e4c92d7d6df"
      },
      "source": [
        "plt.figure(figsize=(10,4))\n",
        "x = np.arange(15)\n",
        "plt.subplot(1,2,1)\n",
        "plt.bar(x=x, height=poi.prob(x))\n",
        "plt.subplot(122)\n",
        "plt.plot(x,poi.cdf(x))"
      ],
      "execution_count": 124,
      "outputs": [
        {
          "output_type": "execute_result",
          "data": {
            "text/plain": [
              "[<matplotlib.lines.Line2D at 0x7f9def418c88>]"
            ]
          },
          "metadata": {
            "tags": []
          },
          "execution_count": 124
        },
        {
          "output_type": "display_data",
          "data": {
            "image/png": "[encoded data removed]",
            "text/plain": [
              "<Figure size 1000x400 with 2 Axes>"
            ]
          },
          "metadata": {
            "tags": []
          }
        }
      ]
    },
    {
      "cell_type": "markdown",
      "metadata": {
        "id": "RcnyJFu-dAtz",
        "colab_type": "text"
      },
      "source": [
        ""
      ]
    },
    {
      "cell_type": "code",
      "metadata": {
        "id": "vY_BuZX4bvxC",
        "colab_type": "code",
        "colab": {
          "base_uri": "https://localhost:8080/",
          "height": 364
        },
        "outputId": "ec95fe83-f6db-4b71-e251-bcc29a30c10c"
      },
      "source": [
        "print_subclasses_from_module(tfd,tfd.Distribution)"
      ],
      "execution_count": 58,
      "outputs": [
        {
          "output_type": "stream",
          "text": [
            "Autoregressive, BatchReshape, Bernoulli, Beta, Binomial, Blockwise, Categorical\n",
            "Cauchy, Chi, Chi2, Chi2WithAbsDf, ConditionalDistribution\n",
            "ConditionalTransformedDistribution, Deterministic, Dirichlet\n",
            "DirichletMultinomial, Distribution, Empirical, ExpRelaxedOneHotCategorical\n",
            "Exponential, FiniteDiscrete, Gamma, GammaGamma, GaussianProcess\n",
            "GaussianProcessRegressionModel, Geometric, Gumbel, HalfCauchy, HalfNormal\n",
            "HiddenMarkovModel, Horseshoe, Independent, InverseGamma, InverseGaussian\n",
            "JointDistribution, JointDistributionCoroutine, JointDistributionNamed\n",
            "JointDistributionSequential, Kumaraswamy, LKJ, Laplace\n",
            "LinearGaussianStateSpaceModel, LogNormal, Logistic, Mixture, MixtureSameFamily\n",
            "Multinomial, MultivariateNormalDiag, MultivariateNormalDiagPlusLowRank\n",
            "MultivariateNormalDiagWithSoftplusScale, MultivariateNormalFullCovariance\n",
            "MultivariateNormalLinearOperator, MultivariateNormalTriL\n",
            "MultivariateStudentTLinearOperator, NegativeBinomial, Normal, OneHotCategorical\n",
            "Pareto, Poisson, PoissonLogNormalQuadratureCompound, QuantizedDistribution\n",
            "RelaxedBernoulli, RelaxedOneHotCategorical, Sample, SinhArcsinh, StudentT\n",
            "StudentTProcess, TransformedDistribution, Triangular, TruncatedNormal, Uniform\n",
            "VariationalGaussianProcess, VectorDeterministic, VectorDiffeomixture\n",
            "VectorExponentialDiag, VectorLaplaceDiag, VectorSinhArcsinhDiag, VonMises\n",
            "VonMisesFisher, Wishart, Zipf\n"
          ],
          "name": "stdout"
        }
      ]
    },
    {
      "cell_type": "markdown",
      "metadata": {
        "id": "WMzj8oFNt0-L",
        "colab_type": "text"
      },
      "source": [
        "**Normal Distribution**\n"
      ]
    },
    {
      "cell_type": "code",
      "metadata": {
        "id": "o6QCv8R0i15-",
        "colab_type": "code",
        "colab": {
          "base_uri": "https://localhost:8080/",
          "height": 461
        },
        "outputId": "35f09b7f-cf2f-44df-a87f-a27d135447d9"
      },
      "source": [
        "norm_dist = tfd.Normal(loc=0.0,scale=1.0)\n",
        "sns.distplot(norm_dist.sample(1000));\n",
        "plt.title(\"Samples from Normal Distributions\")\n",
        "plt.show()"
      ],
      "execution_count": 59,
      "outputs": [
        {
          "output_type": "display_data",
          "data": {
            "image/png": "[encoded data removed]",
            "text/plain": [
              "<Figure size 640x480 with 1 Axes>"
            ]
          },
          "metadata": {
            "tags": []
          }
        }
      ]
    },
    {
      "cell_type": "code",
      "metadata": {
        "id": "WLpCZhgWAlro",
        "colab_type": "code",
        "colab": {
          "base_uri": "https://localhost:8080/",
          "height": 34
        },
        "outputId": "f88b6a2f-a97b-408d-ff42-44ce3f48bbd5"
      },
      "source": [
        "# create a batch of three normal distributions\n",
        "norm_b3 = tfd.Normal(loc=[0.0,2.0,4.0],scale=1.0)\n",
        "samples = norm_b3.sample(1000)\n",
        "print(samples.shape)"
      ],
      "execution_count": 61,
      "outputs": [
        {
          "output_type": "stream",
          "text": [
            "(1000, 3)\n"
          ],
          "name": "stdout"
        }
      ]
    },
    {
      "cell_type": "code",
      "metadata": {
        "id": "HkdGUz48BUm-",
        "colab_type": "code",
        "colab": {
          "base_uri": "https://localhost:8080/",
          "height": 447
        },
        "outputId": "e6b77fdf-5f63-4b42-eca8-2ddee694ed97"
      },
      "source": [
        "for i in range(3):\n",
        "  plt.hist(samples[:,i],rwidth=.9,bins=30,label=r\"$ \\mu $=\"+str(i*2))\n",
        "plt.legend()\n",
        "plt.show()"
      ],
      "execution_count": 72,
      "outputs": [
        {
          "output_type": "display_data",
          "data": {
            "image/png": "[encoded data removed]",
            "text/plain": [
              "<Figure size 640x480 with 1 Axes>"
            ]
          },
          "metadata": {
            "tags": []
          }
        }
      ]
    },
    {
      "cell_type": "code",
      "metadata": {
        "id": "rCPzR0TKuI2k",
        "colab_type": "code",
        "colab": {
          "base_uri": "https://localhost:8080/",
          "height": 69
        },
        "outputId": "63eba2c9-0417-45f9-bcdd-db6849cfe07a"
      },
      "source": [
        "# probability and log prob of a point\n",
        "print(\"prob\",norm_dist.prob(0.0))\n",
        "print(\"logProb\",norm_dist.log_prob(0.0))\n",
        "\n",
        "# logprob for many points\n",
        "# A batch of normals gives a batch of log_probs.\n",
        "print(norm_b3.log_prob([-2.5, 0., 2.5]))"
      ],
      "execution_count": 73,
      "outputs": [
        {
          "output_type": "stream",
          "text": [
            "prob tf.Tensor(0.3989423, shape=(), dtype=float32)\n",
            "logProb tf.Tensor(-0.9189385, shape=(), dtype=float32)\n",
            "tf.Tensor([-4.0439386 -2.9189386 -2.0439386], shape=(3,), dtype=float32)\n"
          ],
          "name": "stdout"
        }
      ]
    },
    {
      "cell_type": "code",
      "metadata": {
        "id": "s5IjTDheDZCX",
        "colab_type": "code",
        "colab": {
          "base_uri": "https://localhost:8080/",
          "height": 69
        },
        "outputId": "80221d07-bfb6-4d00-fb0d-a7ed42a6a45a"
      },
      "source": [
        "norm_b3.log_prob([[2.0],[1.0]])"
      ],
      "execution_count": 77,
      "outputs": [
        {
          "output_type": "execute_result",
          "data": {
            "text/plain": [
              "<tf.Tensor: id=73366, shape=(2, 3), dtype=float32, numpy=\n",
              "array([[-2.9189386, -0.9189385, -2.9189386],\n",
              "       [-1.4189385, -1.4189385, -5.4189386]], dtype=float32)>"
            ]
          },
          "metadata": {
            "tags": []
          },
          "execution_count": 77
        }
      ]
    },
    {
      "cell_type": "code",
      "metadata": {
        "id": "QBBiyp_XERjp",
        "colab_type": "code",
        "colab": {
          "base_uri": "https://localhost:8080/",
          "height": 34
        },
        "outputId": "f5f40c48-7e7a-4fe1-983f-4fbb608df1f3"
      },
      "source": [
        "x = np.linspace(0.0,6.0,200)\n",
        "out = norm_b3.log_prob(x[:,np.newaxis])\n",
        "out.shape"
      ],
      "execution_count": 80,
      "outputs": [
        {
          "output_type": "execute_result",
          "data": {
            "text/plain": [
              "TensorShape([Dimension(200), Dimension(3)])"
            ]
          },
          "metadata": {
            "tags": []
          },
          "execution_count": 80
        }
      ]
    },
    {
      "cell_type": "markdown",
      "metadata": {
        "id": "R7Gb6iJdHhOe",
        "colab_type": "text"
      },
      "source": [
        "**Multivariate Normal Distribution**"
      ]
    },
    {
      "cell_type": "code",
      "metadata": {
        "id": "xLJ9DJozHgHP",
        "colab_type": "code",
        "colab": {
          "base_uri": "https://localhost:8080/",
          "height": 52
        },
        "outputId": "15ffd112-e61d-4037-fd80-6cffeebe7b8c"
      },
      "source": [
        "mvnd = tfd.MultivariateNormalDiag(loc=[1.0,2.0],scale_diag=[1.0,1.3])\n",
        "mv_samples= mvnd.sample(1000)\n",
        "#### event shape\n",
        "print(mvnd)\n",
        "print(mv_samples.shape)"
      ],
      "execution_count": 82,
      "outputs": [
        {
          "output_type": "stream",
          "text": [
            "tfp.distributions.MultivariateNormalDiag(\"MultivariateNormalDiag/\", batch_shape=[], event_shape=[2], dtype=float32)\n",
            "(1000, 2)\n"
          ],
          "name": "stdout"
        }
      ]
    },
    {
      "cell_type": "code",
      "metadata": {
        "id": "lrJYC_hSIMw3",
        "colab_type": "code",
        "colab": {
          "base_uri": "https://localhost:8080/",
          "height": 616
        },
        "outputId": "02055420-198b-45c6-b413-ca9b3073dbed"
      },
      "source": [
        "sns.jointplot(mv_samples[:,0],mv_samples[:,1],kind=\"scatter\",s=10)"
      ],
      "execution_count": 87,
      "outputs": [
        {
          "output_type": "execute_result",
          "data": {
            "text/plain": [
              "<seaborn.axisgrid.JointGrid at 0x7f9df1e4a908>"
            ]
          },
          "metadata": {
            "tags": []
          },
          "execution_count": 87
        },
        {
          "output_type": "display_data",
          "data": {
            "image/png": "[encoded data removed]",
            "text/plain": [
              "<Figure size 600x600 with 3 Axes>"
            ]
          },
          "metadata": {
            "tags": []
          }
        }
      ]
    },
    {
      "cell_type": "markdown",
      "metadata": {
        "id": "luSZo73PMFHf",
        "colab_type": "text"
      },
      "source": [
        "---\n",
        "### LKJ\n",
        "\n",
        "> While the inverse-Wishart distribution is the conjugate prior for the covariance matrix of a multivariate normal distribution, it is not very well-suited to modern Bayesian computational methods. For this reason, the LKJ prior is recommended when modeling the covariance matrix of a multivariate normal distribution.\n",
        "\n",
        "---\n",
        "\n"
      ]
    },
    {
      "cell_type": "code",
      "metadata": {
        "id": "9Utj42qwMDHJ",
        "colab_type": "code",
        "colab": {
          "base_uri": "https://localhost:8080/",
          "height": 299
        },
        "outputId": "f7cd93c2-c226-443f-87ca-4da80ed0a978"
      },
      "source": [
        "fig, ax= plt.subplots(nrows=1, ncols=2,figsize=(6,3))\n",
        "\n",
        "lkj = tfd.LKJ(dimension=10,concentration=[1.5,.05])\n",
        "\n",
        "sns.heatmap(lkj.sample()[0],ax = ax[0],cbar=False)\n",
        "sns.heatmap(lkj.sample()[1],ax = ax[1],cbar=False)\n",
        "fig.tight_layout()\n",
        "plt.show()"
      ],
      "execution_count": 107,
      "outputs": [
        {
          "output_type": "display_data",
          "data": {
            "image/png": "[encoded data removed]",
            "text/plain": [
              "<Figure size 600x300 with 2 Axes>"
            ]
          },
          "metadata": {
            "tags": []
          }
        }
      ]
    },
    {
      "cell_type": "code",
      "metadata": {
        "id": "8ZfHmUBiSh5T",
        "colab_type": "code",
        "colab": {}
      },
      "source": [
        "xs = np.linspace(0.0,6.0,200).reshape([-1,1])\n",
        "kernel = tfp.positive_semidefinite_kernels.ExponentiatedQuadratic()\n",
        "gs = tfd.GaussianProcess(kernel,index_points=xs)"
      ],
      "execution_count": 0,
      "outputs": []
    },
    {
      "cell_type": "code",
      "metadata": {
        "id": "Fl7Qe7uEnrls",
        "colab_type": "code",
        "colab": {
          "base_uri": "https://localhost:8080/",
          "height": 1000
        },
        "outputId": "b7eb386f-1116-4e2a-a823-d8e2792ce865"
      },
      "source": [
        "gs.sample(2)"
      ],
      "execution_count": 120,
      "outputs": [
        {
          "output_type": "execute_result",
          "data": {
            "text/plain": [
              "<tf.Tensor: id=99438, shape=(2, 200), dtype=float64, numpy=\n",
              "array([[ 0.87648382,  0.84269449,  0.80801129,  0.77093379,  0.72869785,\n",
              "         0.68631232,  0.64197484,  0.59386933,  0.54396653,  0.49258291,\n",
              "         0.43798984,  0.37989325,  0.3222865 ,  0.26134364,  0.19605352,\n",
              "         0.13202551,  0.06573819, -0.00309056, -0.07282313, -0.14347606,\n",
              "        -0.21737955, -0.29271483, -0.36688605, -0.44537535, -0.52368964,\n",
              "        -0.60244727, -0.68287846, -0.76266296, -0.8450781 , -0.92448698,\n",
              "        -1.00647688, -1.08893768, -1.17322122, -1.25390026, -1.33477765,\n",
              "        -1.41743727, -1.49660087, -1.57619337, -1.65477089, -1.73448897,\n",
              "        -1.81049035, -1.88687452, -1.95935936, -2.03222014, -2.10143978,\n",
              "        -2.16899847, -2.23670016, -2.29969843, -2.36138472, -2.41908337,\n",
              "        -2.47551914, -2.52794696, -2.5806806 , -2.6301997 , -2.67144855,\n",
              "        -2.7143736 , -2.75296371, -2.78930302, -2.82188001, -2.84923166,\n",
              "        -2.8745832 , -2.89564532, -2.91368642, -2.9287621 , -2.94062939,\n",
              "        -2.94877305, -2.95311682, -2.95338179, -2.95297139, -2.9472015 ,\n",
              "        -2.93659868, -2.92760462, -2.91192685, -2.89347287, -2.8711153 ,\n",
              "        -2.84726893, -2.82110132, -2.79133045, -2.76120553, -2.7229238 ,\n",
              "        -2.6871759 , -2.6466558 , -2.60500301, -2.56279814, -2.51506614,\n",
              "        -2.46591582, -2.41863466, -2.3642423 , -2.31329138, -2.25911995,\n",
              "        -2.20444925, -2.14754818, -2.08864315, -2.0310946 , -1.97294446,\n",
              "        -1.91451745, -1.85398885, -1.79519472, -1.73720053, -1.67680687,\n",
              "        -1.61526208, -1.5572054 , -1.49942329, -1.44195238, -1.38275669,\n",
              "        -1.32664455, -1.27066873, -1.21751267, -1.16337842, -1.11055   ,\n",
              "        -1.06149391, -1.00873909, -0.96329513, -0.91483228, -0.87038704,\n",
              "        -0.82772562, -0.7864814 , -0.7457411 , -0.70817374, -0.67252248,\n",
              "        -0.63750007, -0.60416171, -0.57743658, -0.54545457, -0.51968656,\n",
              "        -0.49294227, -0.47120036, -0.45107176, -0.43231678, -0.41346475,\n",
              "        -0.39814963, -0.38458517, -0.37367151, -0.36486476, -0.35605275,\n",
              "        -0.35087173, -0.34340397, -0.34390903, -0.34109804, -0.34107639,\n",
              "        -0.34482054, -0.34632797, -0.35469079, -0.36173128, -0.3683048 ,\n",
              "        -0.37555817, -0.38627746, -0.39793131, -0.4132381 , -0.42484479,\n",
              "        -0.43978665, -0.45108485, -0.46814245, -0.48327479, -0.49810786,\n",
              "        -0.51545118, -0.53077251, -0.54755169, -0.5619228 , -0.57644019,\n",
              "        -0.59069145, -0.6029192 , -0.6169608 , -0.62721336, -0.64147012,\n",
              "        -0.65092093, -0.65803377, -0.66406488, -0.67105524, -0.67530455,\n",
              "        -0.67385732, -0.67754117, -0.67713189, -0.6740172 , -0.6712944 ,\n",
              "        -0.66592471, -0.65778187, -0.64869839, -0.63890678, -0.62801075,\n",
              "        -0.61248057, -0.59782745, -0.58321044, -0.56650913, -0.54888743,\n",
              "        -0.53034072, -0.50942641, -0.4909671 , -0.47090998, -0.44974371,\n",
              "        -0.42779587, -0.40796402, -0.38814361, -0.36739544, -0.34703864,\n",
              "        -0.33040803, -0.31251077, -0.29446048, -0.27896154, -0.26426287],\n",
              "       [-0.73050497, -0.75208883, -0.76854719, -0.7867336 , -0.80291602,\n",
              "        -0.81426057, -0.82781288, -0.83789006, -0.84750337, -0.85741916,\n",
              "        -0.86355094, -0.87097946, -0.87481382, -0.87860464, -0.88195102,\n",
              "        -0.88114553, -0.88087074, -0.88090312, -0.87818348, -0.87645674,\n",
              "        -0.8724195 , -0.86854362, -0.86348909, -0.85968583, -0.85684167,\n",
              "        -0.84903011, -0.84306323, -0.83861931, -0.83532755, -0.83148525,\n",
              "        -0.8285546 , -0.82114186, -0.81852733, -0.81546151, -0.8116334 ,\n",
              "        -0.81143099, -0.81126762, -0.80905448, -0.81197197, -0.81386746,\n",
              "        -0.81552597, -0.81720375, -0.82259444, -0.82579008, -0.83323821,\n",
              "        -0.8369229 , -0.84318362, -0.85183706, -0.85592266, -0.86454069,\n",
              "        -0.8743909 , -0.88020956, -0.88815637, -0.89693422, -0.90303648,\n",
              "        -0.91208323, -0.91701474, -0.92162448, -0.92774032, -0.93277076,\n",
              "        -0.93753702, -0.93844554, -0.94004932, -0.93783091, -0.94023544,\n",
              "        -0.9357236 , -0.93358164, -0.92713937, -0.9184057 , -0.91078287,\n",
              "        -0.90108134, -0.88914829, -0.87541356, -0.86245899, -0.84532363,\n",
              "        -0.82805726, -0.80763979, -0.78630453, -0.76549386, -0.7416944 ,\n",
              "        -0.71633377, -0.68968036, -0.66447169, -0.63687364, -0.6058649 ,\n",
              "        -0.57647075, -0.54717881, -0.51541958, -0.48397167, -0.4507558 ,\n",
              "        -0.41837011, -0.38420906, -0.35217241, -0.31753107, -0.28456374,\n",
              "        -0.25140579, -0.2182079 , -0.18631763, -0.15272463, -0.12122675,\n",
              "        -0.08683894, -0.05426629, -0.02450879,  0.00503671,  0.03676771,\n",
              "         0.06500026,  0.09433216,  0.1215666 ,  0.15170781,  0.17886417,\n",
              "         0.20376087,  0.23193434,  0.25462822,  0.2803377 ,  0.30213998,\n",
              "         0.32679569,  0.3506113 ,  0.373647  ,  0.39378242,  0.41440401,\n",
              "         0.43371823,  0.45638865,  0.47758204,  0.49753868,  0.51520642,\n",
              "         0.53605451,  0.55465677,  0.57651184,  0.59515611,  0.613869  ,\n",
              "         0.63452363,  0.65451539,  0.67483083,  0.69266252,  0.71466557,\n",
              "         0.7363988 ,  0.75696906,  0.77829655,  0.80144789,  0.82392477,\n",
              "         0.84744927,  0.86999095,  0.8940308 ,  0.92021057,  0.94616081,\n",
              "         0.97089664,  0.99739934,  1.02265595,  1.04932927,  1.07879219,\n",
              "         1.10754674,  1.13767371,  1.16280967,  1.18761559,  1.21942655,\n",
              "         1.24541894,  1.27350679,  1.2990932 ,  1.32709948,  1.35121701,\n",
              "         1.37391461,  1.39863502,  1.42077674,  1.44185705,  1.46082681,\n",
              "         1.47943496,  1.4966803 ,  1.50986624,  1.52210307,  1.53076502,\n",
              "         1.54139436,  1.54367476,  1.55020772,  1.54885816,  1.54792088,\n",
              "         1.54263012,  1.53717993,  1.52417869,  1.51301818,  1.49901865,\n",
              "         1.48177725,  1.46121479,  1.44015991,  1.41532102,  1.38707211,\n",
              "         1.35616399,  1.32418948,  1.29149855,  1.25706142,  1.21987557,\n",
              "         1.17879028,  1.13935354,  1.09869419,  1.0551463 ,  1.01417035,\n",
              "         0.96948747,  0.92531949,  0.8818569 ,  0.83677695,  0.7952673 ]])>"
            ]
          },
          "metadata": {
            "tags": []
          },
          "execution_count": 120
        }
      ]
    },
    {
      "cell_type": "markdown",
      "metadata": {
        "id": "pkjXgiEOkGTf",
        "colab_type": "text"
      },
      "source": [
        "### Vectorize code"
      ]
    },
    {
      "cell_type": "code",
      "metadata": {
        "id": "UpOI8Fi5i1-t",
        "colab_type": "code",
        "colab": {
          "base_uri": "https://localhost:8080/",
          "height": 52
        },
        "outputId": "f8b0d6da-673c-44d3-9a5b-d7c594f4f175"
      },
      "source": [
        "mat = tf.random.normal([1000,100,100])\n",
        "vec = tf.random.normal([1000,100,1])\n",
        "\n",
        "def forloop():\n",
        "  for i in range(1000):\n",
        "    tf.linalg.solve(mat[i,:,:],vec[i,:,:])\n",
        "    \n",
        "    \n",
        "def vecloop():\n",
        "  tf.linalg.solve(mat,vec)\n",
        "    \n",
        "%timeit forloop()\n",
        "%timeit vecloop()"
      ],
      "execution_count": 35,
      "outputs": [
        {
          "output_type": "stream",
          "text": [
            "1 loop, best of 3: 340 ms per loop\n",
            "10 loops, best of 3: 70.7 ms per loop\n"
          ],
          "name": "stdout"
        }
      ]
    },
    {
      "cell_type": "markdown",
      "metadata": {
        "id": "4NNix2L_lC5w",
        "colab_type": "text"
      },
      "source": [
        "**Automatic Differentiation**"
      ]
    },
    {
      "cell_type": "code",
      "metadata": {
        "id": "RCshAgTXi9UL",
        "colab_type": "code",
        "colab": {
          "base_uri": "https://localhost:8080/",
          "height": 52
        },
        "outputId": "77b0070d-d020-4dbd-fb23-674399b92a4e"
      },
      "source": [
        "a = tf.Variable(np.pi)\n",
        "b = tf.Variable(np.e)\n",
        "\n",
        "with tf.GradientTape() as tape:\n",
        "  c= .5*(a**2 + b**2)\n",
        "tape.gradient(c,[a,b])\n",
        "  "
      ],
      "execution_count": 38,
      "outputs": [
        {
          "output_type": "execute_result",
          "data": {
            "text/plain": [
              "[<tf.Tensor: id=72721, shape=(), dtype=float32, numpy=3.1415927>,\n",
              " <tf.Tensor: id=72745, shape=(), dtype=float32, numpy=2.7182817>]"
            ]
          },
          "metadata": {
            "tags": []
          },
          "execution_count": 38
        }
      ]
    },
    {
      "cell_type": "code",
      "metadata": {
        "id": "uCEKXQcmjD8a",
        "colab_type": "code",
        "colab": {}
      },
      "source": [
        ""
      ],
      "execution_count": 0,
      "outputs": []
    }
  ]
}