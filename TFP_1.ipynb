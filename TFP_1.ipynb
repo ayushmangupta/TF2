{
  "nbformat": 4,
  "nbformat_minor": 0,
  "metadata": {
    "colab": {
      "name": "TFP-1.ipynb",
      "version": "0.3.2",
      "provenance": [],
      "include_colab_link": true
    },
    "kernelspec": {
      "name": "python3",
      "display_name": "Python 3"
    }
  },
  "cells": [
    {
      "cell_type": "markdown",
      "metadata": {
        "id": "view-in-github",
        "colab_type": "text"
      },
      "source": [
        "<a href=\"https://colab.research.google.com/github/ayushmangupta/TF2/blob/master/TFP_1.ipynb\" target=\"_parent\"><img src=\"https://colab.research.google.com/assets/colab-badge.svg\" alt=\"Open In Colab\"/></a>"
      ]
    },
    {
      "cell_type": "code",
      "metadata": {
        "id": "BYOPM8QGWcIW",
        "colab_type": "code",
        "colab": {}
      },
      "source": [
        "#!pip install --upgrade tensorflow-probability"
      ],
      "execution_count": 0,
      "outputs": []
    },
    {
      "cell_type": "code",
      "metadata": {
        "id": "rT-6dl2AWgTe",
        "colab_type": "code",
        "colab": {
          "base_uri": "https://localhost:8080/",
          "height": 34
        },
        "outputId": "90152399-cda6-4d2d-ef50-29a1844a091b"
      },
      "source": [
        "%matplotlib inline\n",
        "import tensorflow as tf\n",
        "tf.enable_eager_execution()\n",
        "import tensorflow_probability as tfp\n",
        "import numpy as np\n",
        "import tensorflow.keras as tfk\n",
        "from tensorflow_probability import distributions as tfd \n",
        "import matplotlib.pyplot as plt\n",
        "tfb = tfp.bijectors\n",
        "\n",
        "print(tf.__version__)"
      ],
      "execution_count": 27,
      "outputs": [
        {
          "output_type": "stream",
          "text": [
            "1.14.0-rc1\n"
          ],
          "name": "stdout"
        }
      ]
    },
    {
      "cell_type": "markdown",
      "metadata": {
        "id": "_pS8-NJKbOxP",
        "colab_type": "text"
      },
      "source": [
        "**Poission Distribution**"
      ]
    },
    {
      "cell_type": "code",
      "metadata": {
        "id": "BolyE1o7WwUE",
        "colab_type": "code",
        "colab": {}
      },
      "source": [
        "poi = tfd.Poisson(rate=3)\n"
      ],
      "execution_count": 0,
      "outputs": []
    },
    {
      "cell_type": "code",
      "metadata": {
        "id": "BLmtfiXqYrJT",
        "colab_type": "code",
        "colab": {
          "base_uri": "https://localhost:8080/",
          "height": 286
        },
        "outputId": "230a4c6e-1bbc-4fb6-fe7e-4d5d5c45811a"
      },
      "source": [
        "plt.figure(figsize=(10,4))\n",
        "x = np.arange(15)\n",
        "plt.subplot(1,2,1)\n",
        "plt.bar(x=x, height=poi.prob(x))\n",
        "plt.subplot(122)\n",
        "plt.plot(x,poi.cdf(x))"
      ],
      "execution_count": 26,
      "outputs": [
        {
          "output_type": "execute_result",
          "data": {
            "text/plain": [
              "[<matplotlib.lines.Line2D at 0x7f9df9031eb8>]"
            ]
          },
          "metadata": {
            "tags": []
          },
          "execution_count": 26
        },
        {
          "output_type": "display_data",
          "data": {
            "image/png": "[encoded data removed]",
            "text/plain": [
              "<Figure size 720x288 with 2 Axes>"
            ]
          },
          "metadata": {
            "tags": []
          }
        }
      ]
    },
    {
      "cell_type": "markdown",
      "metadata": {
        "id": "RcnyJFu-dAtz",
        "colab_type": "text"
      },
      "source": [
        "**Normal Distribution**\n"
      ]
    },
    {
      "cell_type": "code",
      "metadata": {
        "id": "_DTn-dvpZd5H",
        "colab_type": "code",
        "colab": {
          "base_uri": "https://localhost:8080/",
          "height": 286
        },
        "outputId": "10b96ed0-d99d-4ef6-b992-2548885dcdd2"
      },
      "source": [
        ""
      ],
      "execution_count": 13,
      "outputs": [
        {
          "output_type": "execute_result",
          "data": {
            "text/plain": [
              "[<matplotlib.lines.Line2D at 0x7f9df97ff358>]"
            ]
          },
          "metadata": {
            "tags": []
          },
          "execution_count": 13
        },
        {
          "output_type": "display_data",
          "data": {
            "image/png": "[encoded data removed]",
            "text/plain": [
              "<Figure size 432x288 with 1 Axes>"
            ]
          },
          "metadata": {
            "tags": []
          }
        }
      ]
    },
    {
      "cell_type": "code",
      "metadata": {
        "id": "DcMqpgpSa39Q",
        "colab_type": "code",
        "colab": {}
      },
      "source": [
        "norm_dist = tfd.Normal(loc=0.0,scale=1.0)"
      ],
      "execution_count": 0,
      "outputs": []
    },
    {
      "cell_type": "code",
      "metadata": {
        "id": "hj75gJE_blfw",
        "colab_type": "code",
        "colab": {
          "base_uri": "https://localhost:8080/",
          "height": 269
        },
        "outputId": "c8d2d117-d354-4e92-e106-4eee2634b647"
      },
      "source": [
        "plt.hist(norm_dist.sample(1000),bins=50);"
      ],
      "execution_count": 19,
      "outputs": [
        {
          "output_type": "display_data",
          "data": {
            "image/png": "[encoded data removed]",
            "text/plain": [
              "<Figure size 432x288 with 1 Axes>"
            ]
          },
          "metadata": {
            "tags": []
          }
        }
      ]
    },
    {
      "cell_type": "code",
      "metadata": {
        "id": "vY_BuZX4bvxC",
        "colab_type": "code",
        "colab": {}
      },
      "source": [
        ""
      ],
      "execution_count": 0,
      "outputs": []
    },
    {
      "cell_type": "code",
      "metadata": {
        "id": "ASm6ZGqUi1zO",
        "colab_type": "code",
        "colab": {}
      },
      "source": [
        ""
      ],
      "execution_count": 0,
      "outputs": []
    },
    {
      "cell_type": "code",
      "metadata": {
        "id": "o6QCv8R0i15-",
        "colab_type": "code",
        "colab": {}
      },
      "source": [
        ""
      ],
      "execution_count": 0,
      "outputs": []
    },
    {
      "cell_type": "markdown",
      "metadata": {
        "id": "pkjXgiEOkGTf",
        "colab_type": "text"
      },
      "source": [
        "### Vectorize code"
      ]
    },
    {
      "cell_type": "code",
      "metadata": {
        "id": "UpOI8Fi5i1-t",
        "colab_type": "code",
        "colab": {
          "base_uri": "https://localhost:8080/",
          "height": 52
        },
        "outputId": "f8b0d6da-673c-44d3-9a5b-d7c594f4f175"
      },
      "source": [
        "mat = tf.random.normal([1000,100,100])\n",
        "vec = tf.random.normal([1000,100,1])\n",
        "\n",
        "def forloop():\n",
        "  for i in range(1000):\n",
        "    tf.linalg.solve(mat[i,:,:],vec[i,:,:])\n",
        "    \n",
        "    \n",
        "def vecloop():\n",
        "  tf.linalg.solve(mat,vec)\n",
        "    \n",
        "%timeit forloop()\n",
        "%timeit vecloop()"
      ],
      "execution_count": 35,
      "outputs": [
        {
          "output_type": "stream",
          "text": [
            "1 loop, best of 3: 340 ms per loop\n",
            "10 loops, best of 3: 70.7 ms per loop\n"
          ],
          "name": "stdout"
        }
      ]
    },
    {
      "cell_type": "code",
      "metadata": {
        "id": "RCshAgTXi9UL",
        "colab_type": "code",
        "colab": {}
      },
      "source": [
        ""
      ],
      "execution_count": 0,
      "outputs": []
    },
    {
      "cell_type": "code",
      "metadata": {
        "id": "uCEKXQcmjD8a",
        "colab_type": "code",
        "colab": {}
      },
      "source": [
        ""
      ],
      "execution_count": 0,
      "outputs": []
    }
  ]
}