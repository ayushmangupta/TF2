{
  "nbformat": 4,
  "nbformat_minor": 0,
  "metadata": {
    "colab": {
      "name": "TF2-MobileNet.ipynb",
      "version": "0.3.2",
      "provenance": [],
      "collapsed_sections": [],
      "include_colab_link": true
    },
    "language_info": {
      "codemirror_mode": {
        "name": "ipython",
        "version": 3
      },
      "file_extension": ".py",
      "mimetype": "text/x-python",
      "name": "python",
      "nbconvert_exporter": "python",
      "pygments_lexer": "ipython3",
      "version": "3.6.7"
    },
    "kernelspec": {
      "name": "python3",
      "display_name": "Python 3"
    },
    "accelerator": "GPU"
  },
  "cells": [
    {
      "cell_type": "markdown",
      "metadata": {
        "id": "view-in-github",
        "colab_type": "text"
      },
      "source": [
        "<a href=\"https://colab.research.google.com/github/ayushmangupta/TF2/blob/master/TF2_MobileNet.ipynb\" target=\"_parent\"><img src=\"https://colab.research.google.com/assets/colab-badge.svg\" alt=\"Open In Colab\"/></a>"
      ]
    },
    {
      "cell_type": "code",
      "metadata": {
        "id": "7BppOpGwTatE",
        "colab_type": "code",
        "colab": {
          "base_uri": "https://localhost:8080/",
          "height": 34
        },
        "outputId": "d0ab692a-7f44-40b9-c05b-fd68794b88b0"
      },
      "source": [
        "%matplotlib inline\n",
        "%load_ext tensorboard\n",
        "#!pip3 install tensorflow-gpu==2.0.0-beta1\n",
        "import os\n",
        "import datetime\n",
        "import tensorflow as tf\n",
        "import matplotlib.pyplot as plt\n",
        "import tensorflow.keras as tfk\n",
        "import numpy as np\n",
        "import tensorflow.keras.layers as tfkl\n",
        "import tensorflow_datasets as tfds\n",
        "\n",
        "tfds.disable_progress_bar()\n",
        "print(tf.__version__)\n",
        "log_dir = \"logd\"\n",
        "!rm -rf logd/"
      ],
      "execution_count": 1,
      "outputs": [
        {
          "output_type": "stream",
          "text": [
            "2.0.0-beta1\n"
          ],
          "name": "stdout"
        }
      ]
    },
    {
      "cell_type": "code",
      "metadata": {
        "id": "798IRo0bTatZ",
        "colab_type": "code",
        "colab": {}
      },
      "source": [
        "def plot_filters(model,ii):\n",
        "    d = model.layers[0]\n",
        "    o = d(ii)\n",
        "    mainImg=[]\n",
        "    for i in range(8): \n",
        "        a = []\n",
        "        for j in range(8):\n",
        "            a.append(o[i,:,:,j])\n",
        "        imgg = np.hstack(a)\n",
        "        mainImg.append(imgg)\n",
        "    return np.vstack(mainImg)"
      ],
      "execution_count": 0,
      "outputs": []
    },
    {
      "cell_type": "code",
      "metadata": {
        "id": "kl7HnFCdTatm",
        "colab_type": "code",
        "colab": {}
      },
      "source": [
        "#img = tf.random.normal([10,28,28,3])"
      ],
      "execution_count": 0,
      "outputs": []
    },
    {
      "cell_type": "code",
      "metadata": {
        "id": "ZURIJz1LTatt",
        "colab_type": "code",
        "colab": {}
      },
      "source": [
        "def depth_conv_block(strides,alpha,filters): \n",
        "        layer = tfk.Sequential([\n",
        "        tfkl.DepthwiseConv2D(1,strides=strides,padding=\"same\"),\n",
        "        tfkl.BatchNormalization(),\n",
        "        tfkl.Activation('relu'),\n",
        "        tfkl.Conv2D(int(filters*alpha),(1,1),padding=\"same\"),\n",
        "        tfkl.BatchNormalization(),\n",
        "        tfkl.Activation('relu') ])\n",
        "        return layer\n",
        "    \n",
        "class Model(tfk.Model):\n",
        "    def __init__(self):\n",
        "        super(Model,self).__init__()\n",
        "        self.input_layer1 = tfkl.InputLayer(input_shape=(28,28,1))\n",
        "        self.padding = tfkl.ZeroPadding2D(padding=(2,2))\n",
        "        self.conv1 = tfkl.Conv2D(32,kernel_size=3,padding=\"same\")\n",
        "        self.batchnorm = tfkl.BatchNormalization()\n",
        "        self.activation = tfkl.Activation('relu')\n",
        "        self.l1 = depth_conv_block(strides=(1,1),alpha=1,filters=64)\n",
        "        self.l2 = depth_conv_block(strides=(2,2),alpha=1,filters=128)\n",
        "        self.l3 = depth_conv_block(strides=(1,1),alpha=1,filters=128)\n",
        "        self.l4 = depth_conv_block(strides=(2,2),alpha=1,filters=256)\n",
        "        self.l5 = depth_conv_block(strides=(1,1),alpha=1,filters=256)\n",
        "        self.l6 = depth_conv_block(strides=(2,2),alpha=1,filters=512)\n",
        "        self.l7 = depth_conv_block(strides=(1,1),alpha=1,filters=512)\n",
        "        self.l8 = depth_conv_block(strides=(2,2),alpha=1,filters=1024)\n",
        "        self.l9 = depth_conv_block(strides=(1,1),alpha=1,filters=1024)\n",
        "        self.flatten = tfkl.Flatten()\n",
        "        self.globalAvg  = tfkl.GlobalAveragePooling2D()\n",
        "        self.d1 = tfkl.Dense(10,activation=\"softmax\")\n",
        "\n",
        "    \n",
        "    def call(self,x):\n",
        "        x = self.input_layer1(x)\n",
        "        x = self.padding(x)\n",
        "        #print(\"after padding\",x.shape)\n",
        "        x = self.conv1(x)\n",
        "        x = self.batchnorm(x)\n",
        "        x = self.activation(x)\n",
        "        x = self.l1(x)\n",
        "        x = self.l2(x)\n",
        "        x = self.l3(x)\n",
        "        x = self.l4(x)\n",
        "        x = self.l5(x)\n",
        "        x = self.l6(x)\n",
        "        for _ in range(5):\n",
        "            x = self.l7(x)\n",
        "        x = self.l8(x)\n",
        "        x = self.l9(x)\n",
        "        #print(\"after l9\",x.shape)\n",
        "        x = self.globalAvg(x)\n",
        "        #print(\"after globalAvg\",x.shape)\n",
        "        x = self.flatten(x)\n",
        "        x = self.d1(x)\n",
        "        return x\n",
        "        "
      ],
      "execution_count": 0,
      "outputs": []
    },
    {
      "cell_type": "code",
      "metadata": {
        "id": "B9tJmnFJTat7",
        "colab_type": "code",
        "colab": {}
      },
      "source": [
        "mnist = tf.keras.datasets.fashion_mnist\n",
        "\n",
        "(x_train, y_train), (x_test, y_test) = mnist.load_data()\n",
        "x_train, x_test = x_train / 255.0, x_test / 255.0\n",
        "\n",
        "x_train = tf.cast(x_train,tf.float32)\n",
        "x_test = tf.cast(x_test,tf.float32)\n",
        "\n",
        "\n",
        "# Add a channels dimension\n",
        "x_train = x_train[..., tf.newaxis]\n",
        "x_test = x_test[..., tf.newaxis]\n",
        "train_ds = tf.data.Dataset.from_tensor_slices(\n",
        "    (x_train, y_train)).shuffle(10000).batch(32)\n",
        "test_ds = tf.data.Dataset.from_tensor_slices((x_test, y_test)).batch(32)"
      ],
      "execution_count": 0,
      "outputs": []
    },
    {
      "cell_type": "code",
      "metadata": {
        "id": "5fgYZ9hVTauB",
        "colab_type": "code",
        "colab": {}
      },
      "source": [
        "loss_object = tf.keras.losses.SparseCategoricalCrossentropy()\n",
        "\n",
        "optimizer = tf.keras.optimizers.RMSprop(0.01)\n",
        "train_loss = tf.keras.metrics.Mean(name='train_loss')\n",
        "train_accuracy = tf.keras.metrics.SparseCategoricalAccuracy(name='train_accuracy')\n",
        "\n",
        "test_loss = tf.keras.metrics.Mean(name='test_loss')\n",
        "test_accuracy = tf.keras.metrics.SparseCategoricalAccuracy(name='test_accuracy')\n"
      ],
      "execution_count": 0,
      "outputs": []
    },
    {
      "cell_type": "code",
      "metadata": {
        "id": "R-0_TWH4TauT",
        "colab_type": "code",
        "colab": {}
      },
      "source": [
        "@tf.function\n",
        "def train_step(images, labels):\n",
        "  with tf.GradientTape() as tape:\n",
        "    predictions = model(images)\n",
        "    loss = loss_object(labels, predictions)\n",
        "  gradients = tape.gradient(loss, model.trainable_variables)\n",
        "  optimizer.apply_gradients(zip(gradients, model.trainable_variables))\n",
        "\n",
        "  train_loss(loss)\n",
        "  train_accuracy(labels, predictions)\n",
        "\n",
        "@tf.function\n",
        "def test_step(images, labels):\n",
        "  predictions = model(images)\n",
        "  t_loss = loss_object(labels, predictions)\n",
        "\n",
        "  test_loss(t_loss)\n",
        "  test_accuracy(labels, predictions)\n"
      ],
      "execution_count": 0,
      "outputs": []
    },
    {
      "cell_type": "code",
      "metadata": {
        "id": "sZ_KY51KTauk",
        "colab_type": "code",
        "colab": {}
      },
      "source": [
        "model = Model()\n",
        "tensorboard_callback = tf.keras.callbacks.TensorBoard(log_dir=log_dir, histogram_freq=1)\n",
        "current_time = datetime.datetime.now().strftime(\"%Y%m%d-%H%M%S\")\n",
        "test_log_dir = 'logd/gradient_tape/' + current_time + '/test'"
      ],
      "execution_count": 0,
      "outputs": []
    },
    {
      "cell_type": "code",
      "metadata": {
        "id": "fKscXXpITau2",
        "colab_type": "code",
        "colab": {}
      },
      "source": [
        "test_summary_writer = tf.summary.create_file_writer(test_log_dir)\n",
        "ii = x_train[:10,:,:,:]"
      ],
      "execution_count": 0,
      "outputs": []
    },
    {
      "cell_type": "code",
      "metadata": {
        "id": "tC3-Hg4tTavH",
        "colab_type": "code",
        "colab": {
          "base_uri": "https://localhost:8080/",
          "height": 85
        },
        "outputId": "77b4d838-7473-4277-a239-53d471677a12"
      },
      "source": [
        "EPOCHS = 15\n",
        "#tf.summary.trace_on(graph=True, profiler=True)\n",
        "for epoch in range(EPOCHS):\n",
        "    for images, labels in train_ds:\n",
        "        train_step(images, labels)\n",
        "    \n",
        "\n",
        "    for test_images, test_labels in test_ds:\n",
        "      test_step(test_images, test_labels)\n",
        "\n",
        "    with test_summary_writer.as_default():\n",
        "        tf.summary.scalar('loss', test_loss.result(), step=epoch)\n",
        "        tf.summary.scalar('accuracy', test_accuracy.result(), step=epoch)\n",
        "        #filter_img = plot_filters(model,ii)\n",
        "        #filter_img = tf.summary.image('image',filter_img[np.newaxis,:,:,np.newaxis],step=epoch)\n",
        "        #tf.summary.trace_export(name=\"my_func_trace\", step=0, profiler_outdir=train_log_dir)\n",
        "        \n",
        "    template = 'Epoch {}, Loss: {}, Accuracy: {}, Test Loss: {}, Test Accuracy: {}'\n",
        "    print (template.format(epoch+1,\n",
        "                           train_loss.result(),\n",
        "                           train_accuracy.result()*100,\n",
        "                           test_loss.result(),\n",
        "                           test_accuracy.result()*100))\n",
        "    test_loss.reset_states()\n",
        "    test_accuracy.reset_states()"
      ],
      "execution_count": 0,
      "outputs": [
        {
          "output_type": "stream",
          "text": [
            "Epoch 1, Loss: 2.3057780265808105, Accuracy: 9.891666412353516, Test Loss: 2.3031139373779297, Test Accuracy: 10.0\n",
            "Epoch 2, Loss: 2.304877519607544, Accuracy: 9.904999732971191, Test Loss: 2.3031139373779297, Test Accuracy: 10.0\n",
            "Epoch 3, Loss: 2.304574728012085, Accuracy: 9.909443855285645, Test Loss: 2.3031139373779297, Test Accuracy: 10.0\n",
            "Epoch 4, Loss: 2.3044190406799316, Accuracy: 9.911666870117188, Test Loss: 2.3031139373779297, Test Accuracy: 10.0\n"
          ],
          "name": "stdout"
        }
      ]
    },
    {
      "cell_type": "code",
      "metadata": {
        "id": "wX0e2h59Tav3",
        "colab_type": "code",
        "colab": {}
      },
      "source": [
        ""
      ],
      "execution_count": 0,
      "outputs": []
    }
  ]
}